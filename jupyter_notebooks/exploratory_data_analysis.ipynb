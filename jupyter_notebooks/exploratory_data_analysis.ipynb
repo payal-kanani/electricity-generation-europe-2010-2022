{
 "cells": [
  {
   "cell_type": "markdown",
   "id": "9a63145d",
   "metadata": {},
   "source": [
    "# **DATA VISUALISATION**\n",
    "----"
   ]
  },
  {
   "cell_type": "markdown",
   "id": "8de1f33a",
   "metadata": {},
   "source": [
    "## Objectives\n",
    "\n",
    "* Perform detailed Exploratory Data Analysis (EDA) on electricity generation data for European countries from 2010 to 2022.\n",
    "* Identify key trends in total electricity production, energy source composition, and country-level contributions.\n",
    "* Separate and compare renewable vs non-renewable electricity generation over time.\n",
    "* Derive statistical insights (e.g. correlations, totals) and highlight seasonality or anomalies.\n",
    "\n",
    "## Inputs\n",
    "\n",
    "* Cleaned dataset: cleaned_european_countries_dataset.csv\n",
    "* Python libraries: pandas, numpy, matplotlib, seaborn, plotly\n",
    "* Columns of interest: year, value (GWh), product, country, energy_type\n",
    "\n",
    "## Outputs\n",
    "\n",
    "* Multiple visualizations showing:\n",
    "    * Total electricity generation trend by year (line chart)\n",
    "    * Electricity generation by top 5 energy sources (multi-line chart)\n",
    "    * Renewable vs non-renewable generation (stacked/grouped bar chart)\n",
    "    * Renewable source trends (solar, wind, hydro, etc.)\n",
    "    * Total generation by country (bar chart)\n",
    "    * Correlation matrix between 'value', 'yeartodate', 'previousyeartodat'e, and 'share'\n",
    "* Prepared data for use in Power BI dashboard and future predictive modeling\n",
    "\n",
    "## Additional Comments\n",
    "\n",
    "* Error bars were preserved in bar plots to reflect variability and confidence in generation data.\n",
    "* Renewable classification was manually curated based on energy source names.\n",
    "* This EDA serves as the foundation for the upcoming predictive analysis.\n",
    "* The same dataset will also use in Power BI dashboard, offering interactive insights for stakeholders.\n",
    "\n",
    "---"
   ]
  },
  {
   "cell_type": "code",
   "execution_count": null,
   "id": "f883a8dc",
   "metadata": {},
   "outputs": [],
   "source": [
    "# import necessary libraries\n",
    "import pandas as pd\n",
    "import numpy as np\n",
    "import plotly.express as px\n",
    "import matplotlib.pyplot as plt\n",
    "import seaborn as sns"
   ]
  },
  {
   "cell_type": "code",
   "execution_count": null,
   "id": "f60d53f7",
   "metadata": {},
   "outputs": [
    {
     "data": {
      "text/html": [
       "<div>\n",
       "<style scoped>\n",
       "    .dataframe tbody tr th:only-of-type {\n",
       "        vertical-align: middle;\n",
       "    }\n",
       "\n",
       "    .dataframe tbody tr th {\n",
       "        vertical-align: top;\n",
       "    }\n",
       "\n",
       "    .dataframe thead th {\n",
       "        text-align: right;\n",
       "    }\n",
       "</style>\n",
       "<table border=\"1\" class=\"dataframe\">\n",
       "  <thead>\n",
       "    <tr style=\"text-align: right;\">\n",
       "      <th></th>\n",
       "      <th>country_name</th>\n",
       "      <th>year</th>\n",
       "      <th>month</th>\n",
       "      <th>product</th>\n",
       "      <th>value</th>\n",
       "      <th>yeartodate</th>\n",
       "      <th>previousyeartodate</th>\n",
       "      <th>share</th>\n",
       "      <th>date</th>\n",
       "    </tr>\n",
       "  </thead>\n",
       "  <tbody>\n",
       "    <tr>\n",
       "      <th>0</th>\n",
       "      <td>Austria</td>\n",
       "      <td>2010</td>\n",
       "      <td>1</td>\n",
       "      <td>Hydro</td>\n",
       "      <td>2579.264</td>\n",
       "      <td>39502.566</td>\n",
       "      <td>0.0</td>\n",
       "      <td>0.437055</td>\n",
       "      <td>2010-01-01</td>\n",
       "    </tr>\n",
       "    <tr>\n",
       "      <th>1</th>\n",
       "      <td>Austria</td>\n",
       "      <td>2010</td>\n",
       "      <td>1</td>\n",
       "      <td>Solar</td>\n",
       "      <td>2.864</td>\n",
       "      <td>84.421</td>\n",
       "      <td>0.0</td>\n",
       "      <td>0.000485</td>\n",
       "      <td>2010-01-01</td>\n",
       "    </tr>\n",
       "    <tr>\n",
       "      <th>2</th>\n",
       "      <td>Austria</td>\n",
       "      <td>2010</td>\n",
       "      <td>1</td>\n",
       "      <td>Geothermal</td>\n",
       "      <td>0.111</td>\n",
       "      <td>1.332</td>\n",
       "      <td>0.0</td>\n",
       "      <td>0.000019</td>\n",
       "      <td>2010-01-01</td>\n",
       "    </tr>\n",
       "    <tr>\n",
       "      <th>3</th>\n",
       "      <td>Austria</td>\n",
       "      <td>2010</td>\n",
       "      <td>1</td>\n",
       "      <td>Total combustible fuels</td>\n",
       "      <td>3117.160</td>\n",
       "      <td>26042.221</td>\n",
       "      <td>0.0</td>\n",
       "      <td>0.528201</td>\n",
       "      <td>2010-01-01</td>\n",
       "    </tr>\n",
       "    <tr>\n",
       "      <th>4</th>\n",
       "      <td>Austria</td>\n",
       "      <td>2010</td>\n",
       "      <td>1</td>\n",
       "      <td>Coal</td>\n",
       "      <td>693.730</td>\n",
       "      <td>6371.891</td>\n",
       "      <td>0.0</td>\n",
       "      <td>0.117552</td>\n",
       "      <td>2010-01-01</td>\n",
       "    </tr>\n",
       "  </tbody>\n",
       "</table>\n",
       "</div>"
      ],
      "text/plain": [
       "  country_name  year  month                  product     value  yeartodate  \\\n",
       "0      Austria  2010      1                    Hydro  2579.264   39502.566   \n",
       "1      Austria  2010      1                    Solar     2.864      84.421   \n",
       "2      Austria  2010      1               Geothermal     0.111       1.332   \n",
       "3      Austria  2010      1  Total combustible fuels  3117.160   26042.221   \n",
       "4      Austria  2010      1                     Coal   693.730    6371.891   \n",
       "\n",
       "   previousyeartodate     share        date  \n",
       "0                 0.0  0.437055  2010-01-01  \n",
       "1                 0.0  0.000485  2010-01-01  \n",
       "2                 0.0  0.000019  2010-01-01  \n",
       "3                 0.0  0.528201  2010-01-01  \n",
       "4                 0.0  0.117552  2010-01-01  "
      ]
     },
     "execution_count": 2,
     "metadata": {},
     "output_type": "execute_result"
    }
   ],
   "source": [
    "# Load the cleaned dataset\n",
    "df = pd.read_csv('../data/cleaned_european_countries_dataset.csv')\n",
    "df.head()"
   ]
  },
  {
   "cell_type": "markdown",
   "id": "06a68bd8",
   "metadata": {},
   "source": [
    "----"
   ]
  },
  {
   "cell_type": "markdown",
   "id": "4f0e4b23",
   "metadata": {},
   "source": [
    "## 1. Overall Electricity Generation in Europe by Year\n",
    "A line chart below shows the overall electricity generation in Europe from 2010 to 2022."
   ]
  },
  {
   "cell_type": "code",
   "execution_count": null,
   "id": "a09cfa9b",
   "metadata": {},
   "outputs": [
    {
     "data": {
      "image/png": "[encoded data removed]",
      "text/plain": [
       "<Figure size 1200x600 with 1 Axes>"
      ]
     },
     "metadata": {},
     "output_type": "display_data"
    }
   ],
   "source": [
    "# Electricity generation over time using matplotlib\n",
    "# Group by year and sum total electricity generation\n",
    "yearly_generation = df.groupby('year')['value'].sum()\n",
    "\n",
    "plt.figure(figsize=(12, 6))\n",
    "yearly_generation.plot(marker='o', color='teal')\n",
    "plt.title('Overall Electricity Generation Trend (2010-2022)')\n",
    "plt.xlabel('Year')\n",
    "plt.ylabel('Total Electricity Generation (GWh)')\n",
    "plt.grid(True, linestyle='--', alpha=0.5)\n",
    "plt.tight_layout()\n",
    "plt.show()"
   ]
  },
  {
   "cell_type": "markdown",
   "id": "6b8b117e",
   "metadata": {},
   "source": [
    "### Insights: \n",
    "* A line chart showing the total electricity produced each year (2010–2022) in Europe.\n",
    "* Trend increases: Suggests growing energy demand or increased production capacity.\n",
    "* There's a drop around 2020: Could relate to COVID-19 pandemic, with lower industrial activity.\n",
    "* Fluctuations: Indicate variability in production possibly due to weather, policy changes, or fuel availability.\n",
    "----"
   ]
  },
  {
   "cell_type": "markdown",
   "id": "4724c979",
   "metadata": {},
   "source": [
    "## 2. Electricity Generation Trend by Top 5 Energy Sources\n",
    "A line chart below visualizes the electricity generation trends for the top 5 most common energy sources in Europe from 2010 to 2022. Each line represents a different product, allowing us to compare their growth, decline, and overall contribution to the region’s energy mix over time. "
   ]
  },
  {
   "cell_type": "code",
   "execution_count": null,
   "id": "65d9a827",
   "metadata": {},
   "outputs": [
    {
     "data": {
      "image/png": "[encoded data removed]",
      "text/plain": [
       "<Figure size 1200x600 with 1 Axes>"
      ]
     },
     "metadata": {},
     "output_type": "display_data"
    }
   ],
   "source": [
    "# Elecricity generation by top 5 products using seaborn\n",
    "# Get top 5 most frequent products\n",
    "top_products = df['product'].value_counts().head(5).index.tolist()\n",
    "\n",
    "# Filter dataset\n",
    "top_product_df = df[df['product'].isin(top_products)]\n",
    "\n",
    "# Group by year and product\n",
    "product_trend = top_product_df.groupby(['year', 'product'])['value'].sum().reset_index()\n",
    "\n",
    "# Plot\n",
    "plt.figure(figsize=(12, 6))\n",
    "sns.lineplot(data=product_trend, x='year', y='value', hue='product', marker='o')\n",
    "plt.title(\"Electricity Generation Trend by Top 5 Energy Sources\")\n",
    "plt.ylabel(\"Generation (GWh)\")\n",
    "plt.xlabel(\"Year\")\n",
    "plt.legend(title=\"Energy Source\")\n",
    "plt.tight_layout()\n",
    "plt.show()"
   ]
  },
  {
   "cell_type": "markdown",
   "id": "245158b9",
   "metadata": {},
   "source": [
    "### Insights:\n",
    "* Trends of the top 5 most common energy sources  across the years.\n",
    "* Net electricity production remained stable, peaking slightly around 2017.\n",
    "* Low-carbon sources (renewables + nuclear) rose steadily, showing Europe's shift to clean energy.\n",
    "* Non-renewables declined overall but saw a small rebound after 2020.\n",
    "* Fossil fuels show a clear downward trend, with some recovery due to external factors.\n",
    "* Total combustible fuels are gradually decreasing, hinting at improved efficiency or fuel switching.\n",
    "* Overall, Europe is transitioning toward cleaner energy, but fossil fuels still play a backup role.\n",
    "\n",
    "-----"
   ]
  },
  {
   "cell_type": "markdown",
   "id": "65439d5c",
   "metadata": {},
   "source": [
    "## 3. Renewable vs Non-Renewable Electricity Generation Over Time\n",
    "A bar chart below compares the total renewable and non-renewable electricity generation in Europe for each year from 2010 to 2022. This visualization highlights the persistent dominance of non-renewables, while showing the gradual increase in renewables over time."
   ]
  },
  {
   "cell_type": "code",
   "execution_count": null,
   "id": "9a65d802",
   "metadata": {},
   "outputs": [
    {
     "data": {
      "image/png": "[encoded data removed]",
      "text/plain": [
       "<Figure size 1200x700 with 1 Axes>"
      ]
     },
     "metadata": {},
     "output_type": "display_data"
    }
   ],
   "source": [
    "# renewable vs non-renewable using seaborn\n",
    "plt.figure(figsize=(12, 7))\n",
    "sns.barplot(\n",
    "    data=df, \n",
    "    x='year', \n",
    "    y='value', \n",
    "    hue='energy_type', \n",
    "    palette={'Renewable': '#2ca02c', 'Non-Renewable': '#d62728'}\n",
    ")\n",
    "plt.title(\"Renewable vs Non-Renewable Electricity Generation Over Time\", fontsize=16, weight='bold')\n",
    "plt.ylabel(\"Generation (GWh)\", fontsize=13)\n",
    "plt.xlabel(\"Year\", fontsize=13)\n",
    "plt.legend(title=\"Energy Type\", fontsize=12, title_fontsize=13)\n",
    "plt.xticks(rotation=45)\n",
    "plt.grid(axis='y', linestyle='--', alpha=0.4)\n",
    "plt.tight_layout()\n",
    "plt.show()\n"
   ]
  },
  {
   "cell_type": "markdown",
   "id": "410b888a",
   "metadata": {},
   "source": [
    "### Insights: \n",
    "* The black lines on each bar represent error bars indicating variability in electricity generation across months within the same year. They provide insight into the consistency of energy generation.\n",
    "* Non-renewable energy dominates electricity generation across all years. There’s a slight increase in renewable generation, especially after 2015.\n",
    "* Electricity generation from renewable energy sources has gradually increased.\n",
    "* The gap between the two remains wide, showing limited convergence. Europe is adding renewables, but still heavily relies on fossil fuels. The pace of the energy transition appears gradual, not aggressive.\n",
    "----"
   ]
  },
  {
   "cell_type": "markdown",
   "id": "4c0694fc",
   "metadata": {},
   "source": [
    "## 4. Electricity Generation Trend by Country\n",
    "A bar chart below shows the total electricity generation by country in Europe from 2010 to 2022. The chart highlights which countries are the largest producers, reflecting differences in population, industrial capacity, and energy infrastructure."
   ]
  },
  {
   "cell_type": "code",
   "execution_count": null,
   "id": "3f9df162",
   "metadata": {},
   "outputs": [
    {
     "data": {
      "application/vnd.plotly.v1+json": {
       "config": {
        "plotlyServerURL": "https://plot.ly"
       },
       "data": [
        {
         "hovertemplate": "Country=%{x}<br>Total GWh=%{y}<extra></extra>",
         "legendgroup": "",
         "marker": {
          "color": "#636efa",
          "pattern": {
           "shape": ""
          }
         },
         "name": "",
         "orientation": "v",
         "showlegend": false,
         "textposition": "auto",
         "type": "bar",
         "x": [
          "Germany",
          "United Kingdom",
          "Italy",
          "France",
          "Spain",
          "Republic of Turkiye",
          "Poland",
          "Sweden",
          "Norway",
          "Netherlands",
          "Belgium",
          "Czech Republic",
          "Finland",
          "Austria",
          "Switzerland",
          "Portugal",
          "Greece",
          "Hungary",
          "Denmark",
          "Romania",
          "Ireland",
          "Slovak Republic",
          "Bulgaria",
          "Serbia",
          "Iceland",
          "Slovenia",
          "Estonia",
          "Croatia",
          "Lithuania",
          "Latvia",
          "Luxembourg",
          "North Macedonia",
          "Cyprus",
          "Malta"
         ],
         "xaxis": "x",
         "y": {
          "bdata": "sbJsewj0eEFbhB1tPn5zQUvUgWVIIHNBXo4d+o2sckGMiWhrFy9yQZCREovqrXFBJGF/h6HYakFrkf7RnDRoQU1qSDMvbWVBdHlzXeZlZEH1vBubpp5cQQX9hZGAIVtBLAsmODYjWUElP+JmHOFXQVcjuxn9dFdB2LrU5SgUUkFLP+GqCghSQZtathgl+0hB6PS8id8qSEF3vp+UH/FFQTV5ykh44kNBIH7+ganyQkEgKo0aE5xAQROc+rwasDxBsmfPifjiNkFHc2SZRGU2QXJTA43E8y1BJa5jtBMvKkHII7jZHBAnQQOTGzWNPiNB0EVDxhzCHUHAzk3rsR0TQT/h7DbHdhFBVaTC2Ey9+kA=",
          "dtype": "f8"
         },
         "yaxis": "y"
        }
       ],
       "layout": {
        "barmode": "relative",
        "legend": {
         "tracegroupgap": 0
        },
        "template": {
         "data": {
          "bar": [
           {
            "error_x": {
             "color": "#2a3f5f"
            },
            "error_y": {
             "color": "#2a3f5f"
            },
            "marker": {
             "line": {
              "color": "#E5ECF6",
              "width": 0.5
             },
             "pattern": {
              "fillmode": "overlay",
              "size": 10,
              "solidity": 0.2
             }
            },
            "type": "bar"
           }
          ],
          "barpolar": [
           {
            "marker": {
             "line": {
              "color": "#E5ECF6",
              "width": 0.5
             },
             "pattern": {
              "fillmode": "overlay",
              "size": 10,
              "solidity": 0.2
             }
            },
            "type": "barpolar"
           }
          ],
          "carpet": [
           {
            "aaxis": {
             "endlinecolor": "#2a3f5f",
             "gridcolor": "white",
             "linecolor": "white",
             "minorgridcolor": "white",
             "startlinecolor": "#2a3f5f"
            },
            "baxis": {
             "endlinecolor": "#2a3f5f",
             "gridcolor": "white",
             "linecolor": "white",
             "minorgridcolor": "white",
             "startlinecolor": "#2a3f5f"
            },
            "type": "carpet"
           }
          ],
          "choropleth": [
           {
            "colorbar": {
             "outlinewidth": 0,
             "ticks": ""
            },
            "type": "choropleth"
           }
          ],
          "contour": [
           {
            "colorbar": {
             "outlinewidth": 0,
             "ticks": ""
            },
            "colorscale": [
             [
              0,
              "#0d0887"
             ],
             [
              0.1111111111111111,
              "#46039f"
             ],
             [
              0.2222222222222222,
              "#7201a8"
             ],
             [
              0.3333333333333333,
              "#9c179e"
             ],
             [
              0.4444444444444444,
              "#bd3786"
             ],
             [
              0.5555555555555556,
              "#d8576b"
             ],
             [
              0.6666666666666666,
              "#ed7953"
             ],
             [
              0.7777777777777778,
              "#fb9f3a"
             ],
             [
              0.8888888888888888,
              "#fdca26"
             ],
             [
              1,
              "#f0f921"
             ]
            ],
            "type": "contour"
           }
          ],
          "contourcarpet": [
           {
            "colorbar": {
             "outlinewidth": 0,
             "ticks": ""
            },
            "type": "contourcarpet"
           }
          ],
          "heatmap": [
           {
            "colorbar": {
             "outlinewidth": 0,
             "ticks": ""
            },
            "colorscale": [
             [
              0,
              "#0d0887"
             ],
             [
              0.1111111111111111,
              "#46039f"
             ],
             [
              0.2222222222222222,
              "#7201a8"
             ],
             [
              0.3333333333333333,
              "#9c179e"
             ],
             [
              0.4444444444444444,
              "#bd3786"
             ],
             [
              0.5555555555555556,
              "#d8576b"
             ],
             [
              0.6666666666666666,
              "#ed7953"
             ],
             [
              0.7777777777777778,
              "#fb9f3a"
             ],
             [
              0.8888888888888888,
              "#fdca26"
             ],
             [
              1,
              "#f0f921"
             ]
            ],
            "type": "heatmap"
           }
          ],
          "histogram": [
           {
            "marker": {
             "pattern": {
              "fillmode": "overlay",
              "size": 10,
              "solidity": 0.2
             }
            },
            "type": "histogram"
           }
          ],
          "histogram2d": [
           {
            "colorbar": {
             "outlinewidth": 0,
             "ticks": ""
            },
            "colorscale": [
             [
              0,
              "#0d0887"
             ],
             [
              0.1111111111111111,
              "#46039f"
             ],
             [
              0.2222222222222222,
              "#7201a8"
             ],
             [
              0.3333333333333333,
              "#9c179e"
             ],
             [
              0.4444444444444444,
              "#bd3786"
             ],
             [
              0.5555555555555556,
              "#d8576b"
             ],
             [
              0.6666666666666666,
              "#ed7953"
             ],
             [
              0.7777777777777778,
              "#fb9f3a"
             ],
             [
              0.8888888888888888,
              "#fdca26"
             ],
             [
              1,
              "#f0f921"
             ]
            ],
            "type": "histogram2d"
           }
          ],
          "histogram2dcontour": [
           {
            "colorbar": {
             "outlinewidth": 0,
             "ticks": ""
            },
            "colorscale": [
             [
              0,
              "#0d0887"
             ],
             [
              0.1111111111111111,
              "#46039f"
             ],
             [
              0.2222222222222222,
              "#7201a8"
             ],
             [
              0.3333333333333333,
              "#9c179e"
             ],
             [
              0.4444444444444444,
              "#bd3786"
             ],
             [
              0.5555555555555556,
              "#d8576b"
             ],
             [
              0.6666666666666666,
              "#ed7953"
             ],
             [
              0.7777777777777778,
              "#fb9f3a"
             ],
             [
              0.8888888888888888,
              "#fdca26"
             ],
             [
              1,
              "#f0f921"
             ]
            ],
            "type": "histogram2dcontour"
           }
          ],
          "mesh3d": [
           {
            "colorbar": {
             "outlinewidth": 0,
             "ticks": ""
            },
            "type": "mesh3d"
           }
          ],
          "parcoords": [
           {
            "line": {
             "colorbar": {
              "outlinewidth": 0,
              "ticks": ""
             }
            },
            "type": "parcoords"
           }
          ],
          "pie": [
           {
            "automargin": true,
            "type": "pie"
           }
          ],
          "scatter": [
           {
            "fillpattern": {
             "fillmode": "overlay",
             "size": 10,
             "solidity": 0.2
            },
            "type": "scatter"
           }
          ],
          "scatter3d": [
           {
            "line": {
             "colorbar": {
              "outlinewidth": 0,
              "ticks": ""
             }
            },
            "marker": {
             "colorbar": {
              "outlinewidth": 0,
              "ticks": ""
             }
            },
            "type": "scatter3d"
           }
          ],
          "scattercarpet": [
           {
            "marker": {
             "colorbar": {
              "outlinewidth": 0,
              "ticks": ""
             }
            },
            "type": "scattercarpet"
           }
          ],
          "scattergeo": [
           {
            "marker": {
             "colorbar": {
              "outlinewidth": 0,
              "ticks": ""
             }
            },
            "type": "scattergeo"
           }
          ],
          "scattergl": [
           {
            "marker": {
             "colorbar": {
              "outlinewidth": 0,
              "ticks": ""
             }
            },
            "type": "scattergl"
           }
          ],
          "scattermap": [
           {
            "marker": {
             "colorbar": {
              "outlinewidth": 0,
              "ticks": ""
             }
            },
            "type": "scattermap"
           }
          ],
          "scattermapbox": [
           {
            "marker": {
             "colorbar": {
              "outlinewidth": 0,
              "ticks": ""
             }
            },
            "type": "scattermapbox"
           }
          ],
          "scatterpolar": [
           {
            "marker": {
             "colorbar": {
              "outlinewidth": 0,
              "ticks": ""
             }
            },
            "type": "scatterpolar"
           }
          ],
          "scatterpolargl": [
           {
            "marker": {
             "colorbar": {
              "outlinewidth": 0,
              "ticks": ""
             }
            },
            "type": "scatterpolargl"
           }
          ],
          "scatterternary": [
           {
            "marker": {
             "colorbar": {
              "outlinewidth": 0,
              "ticks": ""
             }
            },
            "type": "scatterternary"
           }
          ],
          "surface": [
           {
            "colorbar": {
             "outlinewidth": 0,
             "ticks": ""
            },
            "colorscale": [
             [
              0,
              "#0d0887"
             ],
             [
              0.1111111111111111,
              "#46039f"
             ],
             [
              0.2222222222222222,
              "#7201a8"
             ],
             [
              0.3333333333333333,
              "#9c179e"
             ],
             [
              0.4444444444444444,
              "#bd3786"
             ],
             [
              0.5555555555555556,
              "#d8576b"
             ],
             [
              0.6666666666666666,
              "#ed7953"
             ],
             [
              0.7777777777777778,
              "#fb9f3a"
             ],
             [
              0.8888888888888888,
              "#fdca26"
             ],
             [
              1,
              "#f0f921"
             ]
            ],
            "type": "surface"
           }
          ],
          "table": [
           {
            "cells": {
             "fill": {
              "color": "#EBF0F8"
             },
             "line": {
              "color": "white"
             }
            },
            "header": {
             "fill": {
              "color": "#C8D4E3"
             },
             "line": {
              "color": "white"
             }
            },
            "type": "table"
           }
          ]
         },
         "layout": {
          "annotationdefaults": {
           "arrowcolor": "#2a3f5f",
           "arrowhead": 0,
           "arrowwidth": 1
          },
          "autotypenumbers": "strict",
          "coloraxis": {
           "colorbar": {
            "outlinewidth": 0,
            "ticks": ""
           }
          },
          "colorscale": {
           "diverging": [
            [
             0,
             "#8e0152"
            ],
            [
             0.1,
             "#c51b7d"
            ],
            [
             0.2,
             "#de77ae"
            ],
            [
             0.3,
             "#f1b6da"
            ],
            [
             0.4,
             "#fde0ef"
            ],
            [
             0.5,
             "#f7f7f7"
            ],
            [
             0.6,
             "#e6f5d0"
            ],
            [
             0.7,
             "#b8e186"
            ],
            [
             0.8,
             "#7fbc41"
            ],
            [
             0.9,
             "#4d9221"
            ],
            [
             1,
             "#276419"
            ]
           ],
           "sequential": [
            [
             0,
             "#0d0887"
            ],
            [
             0.1111111111111111,
             "#46039f"
            ],
            [
             0.2222222222222222,
             "#7201a8"
            ],
            [
             0.3333333333333333,
             "#9c179e"
            ],
            [
             0.4444444444444444,
             "#bd3786"
            ],
            [
             0.5555555555555556,
             "#d8576b"
            ],
            [
             0.6666666666666666,
             "#ed7953"
            ],
            [
             0.7777777777777778,
             "#fb9f3a"
            ],
            [
             0.8888888888888888,
             "#fdca26"
            ],
            [
             1,
             "#f0f921"
            ]
           ],
           "sequentialminus": [
            [
             0,
             "#0d0887"
            ],
            [
             0.1111111111111111,
             "#46039f"
            ],
            [
             0.2222222222222222,
             "#7201a8"
            ],
            [
             0.3333333333333333,
             "#9c179e"
            ],
            [
             0.4444444444444444,
             "#bd3786"
            ],
            [
             0.5555555555555556,
             "#d8576b"
            ],
            [
             0.6666666666666666,
             "#ed7953"
            ],
            [
             0.7777777777777778,
             "#fb9f3a"
            ],
            [
             0.8888888888888888,
             "#fdca26"
            ],
            [
             1,
             "#f0f921"
            ]
           ]
          },
          "colorway": [
           "#636efa",
           "#EF553B",
           "#00cc96",
           "#ab63fa",
           "#FFA15A",
           "#19d3f3",
           "#FF6692",
           "#B6E880",
           "#FF97FF",
           "#FECB52"
          ],
          "font": {
           "color": "#2a3f5f"
          },
          "geo": {
           "bgcolor": "white",
           "lakecolor": "white",
           "landcolor": "#E5ECF6",
           "showlakes": true,
           "showland": true,
           "subunitcolor": "white"
          },
          "hoverlabel": {
           "align": "left"
          },
          "hovermode": "closest",
          "mapbox": {
           "style": "light"
          },
          "paper_bgcolor": "white",
          "plot_bgcolor": "#E5ECF6",
          "polar": {
           "angularaxis": {
            "gridcolor": "white",
            "linecolor": "white",
            "ticks": ""
           },
           "bgcolor": "#E5ECF6",
           "radialaxis": {
            "gridcolor": "white",
            "linecolor": "white",
            "ticks": ""
           }
          },
          "scene": {
           "xaxis": {
            "backgroundcolor": "#E5ECF6",
            "gridcolor": "white",
            "gridwidth": 2,
            "linecolor": "white",
            "showbackground": true,
            "ticks": "",
            "zerolinecolor": "white"
           },
           "yaxis": {
            "backgroundcolor": "#E5ECF6",
            "gridcolor": "white",
            "gridwidth": 2,
            "linecolor": "white",
            "showbackground": true,
            "ticks": "",
            "zerolinecolor": "white"
           },
           "zaxis": {
            "backgroundcolor": "#E5ECF6",
            "gridcolor": "white",
            "gridwidth": 2,
            "linecolor": "white",
            "showbackground": true,
            "ticks": "",
            "zerolinecolor": "white"
           }
          },
          "shapedefaults": {
           "line": {
            "color": "#2a3f5f"
           }
          },
          "ternary": {
           "aaxis": {
            "gridcolor": "white",
            "linecolor": "white",
            "ticks": ""
           },
           "baxis": {
            "gridcolor": "white",
            "linecolor": "white",
            "ticks": ""
           },
           "bgcolor": "#E5ECF6",
           "caxis": {
            "gridcolor": "white",
            "linecolor": "white",
            "ticks": ""
           }
          },
          "title": {
           "x": 0.05
          },
          "xaxis": {
           "automargin": true,
           "gridcolor": "white",
           "linecolor": "white",
           "ticks": "",
           "title": {
            "standoff": 15
           },
           "zerolinecolor": "white",
           "zerolinewidth": 2
          },
          "yaxis": {
           "automargin": true,
           "gridcolor": "white",
           "linecolor": "white",
           "ticks": "",
           "title": {
            "standoff": 15
           },
           "zerolinecolor": "white",
           "zerolinewidth": 2
          }
         }
        },
        "title": {
         "text": "Total Electricity Generation by Country (2010–2022)"
        },
        "xaxis": {
         "anchor": "y",
         "domain": [
          0,
          1
         ],
         "tickangle": 45,
         "title": {
          "text": "Country"
         }
        },
        "yaxis": {
         "anchor": "x",
         "domain": [
          0,
          1
         ],
         "title": {
          "text": "Total GWh"
         }
        }
       }
      }
     },
     "metadata": {},
     "output_type": "display_data"
    }
   ],
   "source": [
    "# total electricity generation by country using plotly\n",
    "# Calculate total electricity generation by country\n",
    "top_countries = df.groupby('country_name')['value'].sum().sort_values(ascending=False)\n",
    "\n",
    "# Plotting electricity generation over time by country using plotly\n",
    "fig = px.bar(\n",
    "    x=top_countries.index,\n",
    "    y=top_countries.values,\n",
    "    labels={'x': 'Country', 'y': 'Total GWh'},\n",
    "    title='Total Electricity Generation by Country (2010–2022)'\n",
    ")\n",
    "fig.update_layout(xaxis_tickangle=45)\n",
    "fig.show()"
   ]
  },
  {
   "cell_type": "markdown",
   "id": "6b4aa6af",
   "metadata": {},
   "source": [
    "### Insights:\n",
    "* Germany leads by a large margin, producing over 26 million GWh.\n",
    "* Italy, UK, France, Spain, and Republic of Turkey follow as major producers.\n",
    "* Smaller nations like Malta, Luxembourg, and Cyprus have very low generation.\n",
    "* This reflects differences in population, industrial size, and energy infrastructure.\n",
    "* Western and Central Europe dominate total production, likely due to higher energy demand and capacity.\n",
    "----"
   ]
  },
  {
   "cell_type": "markdown",
   "id": "330f1611",
   "metadata": {},
   "source": [
    "## 5. Electricity Generation by Renewable Source Over Time\n",
    "A multi-line plotly chart below visualizes the monthly electricity generation by each renewable source in Europe from 2010 to 2022. Each line represents a different renewable energy type (Wind, Solar, Hydro, Geothermal, etc.), allowing us to compare their growth and seasonal patterns over time. This interactive chart helps highlight the rapid expansion of solar and wind, the steady contribution of hydro, and the overall upward trend in renewables."
   ]
  },
  {
   "cell_type": "code",
   "execution_count": null,
   "id": "d6b24207",
   "metadata": {},
   "outputs": [
    {
     "data": {
      "application/vnd.plotly.v1+json": {
       "config": {
        "plotlyServerURL": "https://plot.ly"
       },
       "data": [
        {
         "hovertemplate": "Renewable Source=Combustible renewables<br>Date=%{x}<br>Electricity Generation (GWh)=%{y}<extra></extra>",
         "legendgroup": "Combustible renewables",
         "line": {
          "color": "#636efa",
          "dash": "solid"
         },
         "marker": {
          "symbol": "circle"
         },
         "mode": "lines",
         "name": "Combustible renewables",
         "showlegend": true,
         "type": "scattergl",
         "x": [
          "2010-01-01",
          "2010-02-01",
          "2010-03-01",
          "2010-04-01",
          "2010-05-01",
          "2010-06-01",
          "2010-07-01",
          "2010-08-01",
          "2010-09-01",
          "2010-10-01",
          "2010-11-01",
          "2010-12-01",
          "2011-01-01",
          "2011-02-01",
          "2011-03-01",
          "2011-04-01",
          "2011-05-01",
          "2011-06-01",
          "2011-07-01",
          "2011-08-01",
          "2011-09-01",
          "2011-10-01",
          "2011-11-01",
          "2011-12-01",
          "2012-01-01",
          "2012-02-01",
          "2012-03-01",
          "2012-04-01",
          "2012-05-01",
          "2012-06-01",
          "2012-07-01",
          "2012-08-01",
          "2012-09-01",
          "2012-10-01",
          "2012-11-01",
          "2012-12-01",
          "2013-01-01",
          "2013-02-01",
          "2013-03-01",
          "2013-04-01",
          "2013-05-01",
          "2013-06-01",
          "2013-07-01",
          "2013-08-01",
          "2013-09-01",
          "2013-10-01",
          "2013-11-01",
          "2013-12-01",
          "2014-01-01",
          "2014-02-01",
          "2014-03-01",
          "2014-04-01",
          "2014-05-01",
          "2014-06-01",
          "2014-07-01",
          "2014-08-01",
          "2014-09-01",
          "2014-10-01",
          "2014-11-01",
          "2014-12-01",
          "2015-01-01",
          "2015-02-01",
          "2015-03-01",
          "2015-04-01",
          "2015-05-01",
          "2015-06-01",
          "2015-07-01",
          "2015-08-01",
          "2015-09-01",
          "2015-10-01",
          "2015-11-01",
          "2015-12-01",
          "2016-01-01",
          "2016-02-01",
          "2016-03-01",
          "2016-04-01",
          "2016-05-01",
          "2016-06-01",
          "2016-07-01",
          "2016-08-01",
          "2016-09-01",
          "2016-10-01",
          "2016-11-01",
          "2016-12-01",
          "2017-01-01",
          "2017-02-01",
          "2017-03-01",
          "2017-04-01",
          "2017-05-01",
          "2017-06-01",
          "2017-07-01",
          "2017-08-01",
          "2017-09-01",
          "2017-10-01",
          "2017-11-01",
          "2017-12-01",
          "2018-01-01",
          "2018-02-01",
          "2018-03-01",
          "2018-04-01",
          "2018-05-01",
          "2018-06-01",
          "2018-07-01",
          "2018-08-01",
          "2018-09-01",
          "2018-10-01",
          "2018-11-01",
          "2018-12-01",
          "2019-01-01",
          "2019-02-01",
          "2019-03-01",
          "2019-04-01",
          "2019-05-01",
          "2019-06-01",
          "2019-07-01",
          "2019-08-01",
          "2019-09-01",
          "2019-10-01",
          "2019-11-01",
          "2019-12-01",
          "2020-01-01",
          "2020-02-01",
          "2020-03-01",
          "2020-04-01",
          "2020-05-01",
          "2020-06-01",
          "2020-07-01",
          "2020-08-01",
          "2020-09-01",
          "2020-10-01",
          "2020-11-01",
          "2020-12-01",
          "2021-01-01",
          "2021-02-01",
          "2021-03-01",
          "2021-04-01",
          "2021-05-01",
          "2021-06-01",
          "2021-07-01",
          "2021-08-01",
          "2021-09-01",
          "2021-10-01",
          "2021-11-01",
          "2021-12-01",
          "2022-01-01",
          "2022-02-01",
          "2022-03-01",
          "2022-04-01",
          "2022-05-01",
          "2022-06-01",
          "2022-07-01",
          "2022-08-01",
          "2022-09-01",
          "2022-10-01",
          "2022-11-01",
          "2022-12-01"
         ],
         "xaxis": "x",
         "y": {
          "bdata": "0CLb+Q7cxEBI4XoUDlfDQM3MzMzsK8RAbOf7qeGZwkAUrkfhmnzCQDeJQWBlo8FAdZMYBNZfwkA9CtejIM3BQN0kBoHFDsJAaJHtfG/fw0DsUbgeJY7EQE5iEFgJQsVAf2q8dBO0xkB/arx0gwnGQPhT46Wr38ZAzczMzJzsw0Dwp8ZLhzrEQNEi2/lOeMJAppvEIOBUw0B3vp8az37CQAaBlUPbJsNAexSuR4EFxED+1HjpRn7FQIlBYOXgK8ZAexSuRxEqyUAQWDm0KB3JQIlBYOWgPshAl24Sg1BlxkA5tMh2TmLFQNv5fmoMwsRAvHSTGLTLxUDqJjEInCXGQI/C9ShscsVAzczMzHx7xkACK4cWmWLHQO58PzX+oshAppvEIFDty0A3iUFghaHJQFCNl27y1cpANV66SSyHx0ArhxbZ7pTGQAisHFoE5cRA6Pup8dKFx0AnMQisXBvHQKwcWmS7OcdAukkMAkuYyEAxCKwcakLJQG4Sg8DaP8pA8KfGSyfHykAAAAAAcNHHQFYOLbJNUspAOrTIdl4LyEDl0CLbKTvIQEa28/3kFMhAxSCwcoiUyEAgsHJocffHQKJFtvPdNslAmG4Sg5Dty0AzMzMzc1jMQC2yne+3PM5A9ihcj/JYzkDb+X5qvA3NQAwCK4e2Qc5AH4XrUQg3y0B3vp8avw7KQDZeuknMj8hAexSuR4FHykBOYhBYmVXJQOF6FK7HiMlA7FG4HoVWzUDJdr6fajXOQPp+arwUcs9A30+Nl04+0EBSuB6FGyrNQBgEVg7tC89AZDvfT70+y0D+1HjpVtvKQJQYBFb+uchAH4XrUYhHyUASg8DKwaHIQH9qvHRjeslA001iEDiqzEBOYhBYKcPOQIXrUbjGutBA3Pl+arygzkAzMzMzM9rNQCuHFtneE89AYhBYOZS2zEBGtvP9xInMQOtRuB4lespAL90kBiHpy0BiEFg5JDTMQDVeukncZspAK4cW2f7by0ACK4cWGQbPQG4Sg8BaFtBAuNPWiOKKz0CPM03Y8rjNQLXjht+Nbs9A0/pbAvDtzEBozY+/XqDMQDYAGxCrl8pA88tgjBYVzECojep01JjMQDhorz6+nsxArg/rjZbnzkAAjj17dPHPQKaAtP+i7tBAak3zjotb0UAFiIIZ52jPQH+GN2sz8NBAOjsZHFUEzkBwtrkxVa7NQNoB1xVhScxAij4fZfpDzUBlq8spkzzOQL75DRNxFsxA9KPhlJWyzkC+hXXjAuLQQCr8Gd7sDtJAxwxUxvSi0UBSLSKKiwrQQL/wSpJDVtFAfAvrxjvmz0Dw+Pau9XLPQKq7sgucfM1AZJEm3h96zkCj5xa6dhDOQMgNv5tums1AlX7C2QVcz0BffNEeobrQQOC8OPFrWNJAxhnDnJMN00B2xvfFjjvRQPA32nEp+tJAsBu2LXsC0UA9m1Wf1QfRQBu8r8oVjc5AXmVtU7kF0EBTeTvCVdTQQFsmw/HbKNBAYcH9gNWY0UBfC3pvqXfSQMaH2cshEdRAm8qisFG30kA6kWCqgxPRQICdmzY0zNJAqgt4mZpz0EAb17/rEY/PQGK6EKvJHs9A0qxsHxCzz0ArFVRUPeLPQMTr+gWbQs9AAIv8+tU+zkB5Wn7gs6XQQF8Lem95StJA",
          "dtype": "f8"
         },
         "yaxis": "y"
        },
        {
         "hovertemplate": "Renewable Source=Geothermal<br>Date=%{x}<br>Electricity Generation (GWh)=%{y}<extra></extra>",
         "legendgroup": "Geothermal",
         "line": {
          "color": "#EF553B",
          "dash": "solid"
         },
         "marker": {
          "symbol": "circle"
         },
         "mode": "lines",
         "name": "Geothermal",
         "showlegend": true,
         "type": "scattergl",
         "x": [
          "2010-01-01",
          "2010-02-01",
          "2010-03-01",
          "2010-04-01",
          "2010-05-01",
          "2010-06-01",
          "2010-07-01",
          "2010-08-01",
          "2010-09-01",
          "2010-10-01",
          "2010-11-01",
          "2010-12-01",
          "2011-01-01",
          "2011-02-01",
          "2011-03-01",
          "2011-04-01",
          "2011-05-01",
          "2011-06-01",
          "2011-07-01",
          "2011-08-01",
          "2011-09-01",
          "2011-10-01",
          "2011-11-01",
          "2011-12-01",
          "2012-01-01",
          "2012-02-01",
          "2012-03-01",
          "2012-04-01",
          "2012-05-01",
          "2012-06-01",
          "2012-07-01",
          "2012-08-01",
          "2012-09-01",
          "2012-10-01",
          "2012-11-01",
          "2012-12-01",
          "2013-01-01",
          "2013-02-01",
          "2013-03-01",
          "2013-04-01",
          "2013-05-01",
          "2013-06-01",
          "2013-07-01",
          "2013-08-01",
          "2013-09-01",
          "2013-10-01",
          "2013-11-01",
          "2013-12-01",
          "2014-01-01",
          "2014-02-01",
          "2014-03-01",
          "2014-04-01",
          "2014-05-01",
          "2014-06-01",
          "2014-07-01",
          "2014-08-01",
          "2014-09-01",
          "2014-10-01",
          "2014-11-01",
          "2014-12-01",
          "2015-01-01",
          "2015-02-01",
          "2015-03-01",
          "2015-04-01",
          "2015-05-01",
          "2015-06-01",
          "2015-07-01",
          "2015-08-01",
          "2015-09-01",
          "2015-10-01",
          "2015-11-01",
          "2015-12-01",
          "2016-01-01",
          "2016-02-01",
          "2016-03-01",
          "2016-04-01",
          "2016-05-01",
          "2016-06-01",
          "2016-07-01",
          "2016-08-01",
          "2016-09-01",
          "2016-10-01",
          "2016-11-01",
          "2016-12-01",
          "2017-01-01",
          "2017-02-01",
          "2017-03-01",
          "2017-04-01",
          "2017-05-01",
          "2017-06-01",
          "2017-07-01",
          "2017-08-01",
          "2017-09-01",
          "2017-10-01",
          "2017-11-01",
          "2017-12-01",
          "2018-01-01",
          "2018-02-01",
          "2018-03-01",
          "2018-04-01",
          "2018-05-01",
          "2018-06-01",
          "2018-07-01",
          "2018-08-01",
          "2018-09-01",
          "2018-10-01",
          "2018-11-01",
          "2018-12-01",
          "2019-01-01",
          "2019-02-01",
          "2019-03-01",
          "2019-04-01",
          "2019-05-01",
          "2019-06-01",
          "2019-07-01",
          "2019-08-01",
          "2019-09-01",
          "2019-10-01",
          "2019-11-01",
          "2019-12-01",
          "2020-01-01",
          "2020-02-01",
          "2020-03-01",
          "2020-04-01",
          "2020-05-01",
          "2020-06-01",
          "2020-07-01",
          "2020-08-01",
          "2020-09-01",
          "2020-10-01",
          "2020-11-01",
          "2020-12-01",
          "2021-01-01",
          "2021-02-01",
          "2021-03-01",
          "2021-04-01",
          "2021-05-01",
          "2021-06-01",
          "2021-07-01",
          "2021-08-01",
          "2021-09-01",
          "2021-10-01",
          "2021-11-01",
          "2021-12-01",
          "2022-01-01",
          "2022-02-01",
          "2022-03-01",
          "2022-04-01",
          "2022-05-01",
          "2022-06-01",
          "2022-07-01",
          "2022-08-01",
          "2022-09-01",
          "2022-10-01",
          "2022-11-01",
          "2022-12-01"
         ],
         "xaxis": "x",
         "y": {
          "bdata": "cT0K16NYi0Atsp3vp9iIQB6F61G4JYtAK4cW2c7/ikCJQWDl0HuKQB+F61G40YZA5tAi2/mniUDwp8ZLNzeJQPyp8dJNwohASOF6FK4pi0DqJjEIrCCLQPp+arx0QoxAhetRuB6bjEApXI/C9e2JQMh2vp8acIxAVOOlm8R9i0B2vp8aLz+LQIcW2c730YlANV66SQzai0AYBFYOLQyLQNv5fmq8aYpA16NwPQqEjEDy0k1iEHOMQD81XrpJeY5ARIts5/szj0ChRbbz/YyMQBBYObTIlo5A+n5qvHS4jUBKDAIrh++MQIXrUbge3opAWDm0yHYyjECuR+F6FNeMQNV46SYx9YxAoBov3SSLjkDdJAaBlfmNQJLtfD81C49AQDVeukkXkEBMN4lBYLWMQGIQWDm0sY9AexSuR+GljkArhxbZzlKPQGQ730+N0oxArkfhehS+jkD8qfHSTbqOQArXo3A9eI9ABFYOLTK9kECamZmZmXeQQIcW2c53BJFARrbz/dSOkUC+nxov3aePQKjGSzcJnpFABFYOLTIMkUBqvHSTGFqRQMZLN4nBXpBAiUFg5VAbkUBs5/upcZiQQH9qvHQTkJBAUrgeheuRkUApXI/C9X2RQJVDi2xnr5JAy6FFtnPqkkDJdr6fGvaQQE5iEFg5zZJAoBov3SRCkkC4HoXr0S2SQObQItt5D5FAI9v5fmqQkUBaZDvfT3SRQFK4HoXriZFA9P3UeOndk0BkO99PjVeTQPCnxks3epRALbKd7ye7lEDfT42X7qCTQH9qvHSTKZVAObTIdj4IlEBANV66yReUQN9PjZfuVZJABoGVQ4uWk0ASg8DKITaTQBKDwMqhNZNAlBgEVo5nlEBoke18vyKUQGq8dJOYS5VAI9v5fmoMlkBqvHSTGKyTQPCnxks3x5VAMzMzM7OLlEApXI/Cdd6UQIts5/upqpNARrbz/dTtk0CgGi/dJByUQBgEVg4thpRAgZVDi2zPlkB1kxgEViSXQCGwcmgRMJhAowVoW72EmEA3M/rRwASWQDiKrDUkgphA8FAU6BOvl0Co4sYtVp2XQJzbhHt1k5ZAnuxmRo97lkBnDHOC1vuWQAxAo3RZdZZAcseb/HbzmECcGf1o2PqYQLvUCP1cVppAFXXmHrKfmUC6n1OQh5ehQACOPXu+HZlAWmYRip0pmEAlPQytbm6YQGsNpfZSfZZARwGiYNYul0AqIVhVv8SWQIrkK4GE5pZAg04IHfTOmEChEtcxLoKZQOaWVkOCRppADmJnCr2jnECastMPCpyaQCbjGMmuZZxA/rs+c/ZPm0CkiXeAh+OZQKSkh6GF/ZhA/mFLj8ZxmECdYtUg7MeYQJDY7h4wPZhAmlYKgYw4mkBmFwyuuTKbQKJdhZTfXZxAQLyuX+A5nECyKy0jpQOaQPG76Zat8JxAWvJ4Wh75mkAoLzIB36OaQJFGBU4miplABTI7i976mUAUAySaYAWZQPJ8BtS7qJlAKL1vfL3Um0CqfqXzITKbQGJITiYOAZ1AwHYwYn/knUBbJsPxzOKaQHEbDeCd1p1AnDBhNFt/m0C2t1uS0wSbQKxY/Kaw8JhAiUM2kP5umUC4HRoWwwGZQLGIYYcxuJhA/1peue5Om0BKz/QSQy+bQO0Q/7BVa5xA",
          "dtype": "f8"
         },
         "yaxis": "y"
        },
        {
         "hovertemplate": "Renewable Source=Hydro<br>Date=%{x}<br>Electricity Generation (GWh)=%{y}<extra></extra>",
         "legendgroup": "Hydro",
         "line": {
          "color": "#00cc96",
          "dash": "solid"
         },
         "marker": {
          "symbol": "circle"
         },
         "mode": "lines",
         "name": "Hydro",
         "showlegend": true,
         "type": "scattergl",
         "x": [
          "2010-01-01",
          "2010-02-01",
          "2010-03-01",
          "2010-04-01",
          "2010-05-01",
          "2010-06-01",
          "2010-07-01",
          "2010-08-01",
          "2010-09-01",
          "2010-10-01",
          "2010-11-01",
          "2010-12-01",
          "2011-01-01",
          "2011-02-01",
          "2011-03-01",
          "2011-04-01",
          "2011-05-01",
          "2011-06-01",
          "2011-07-01",
          "2011-08-01",
          "2011-09-01",
          "2011-10-01",
          "2011-11-01",
          "2011-12-01",
          "2012-01-01",
          "2012-02-01",
          "2012-03-01",
          "2012-04-01",
          "2012-05-01",
          "2012-06-01",
          "2012-07-01",
          "2012-08-01",
          "2012-09-01",
          "2012-10-01",
          "2012-11-01",
          "2012-12-01",
          "2013-01-01",
          "2013-02-01",
          "2013-03-01",
          "2013-04-01",
          "2013-05-01",
          "2013-06-01",
          "2013-07-01",
          "2013-08-01",
          "2013-09-01",
          "2013-10-01",
          "2013-11-01",
          "2013-12-01",
          "2014-01-01",
          "2014-02-01",
          "2014-03-01",
          "2014-04-01",
          "2014-05-01",
          "2014-06-01",
          "2014-07-01",
          "2014-08-01",
          "2014-09-01",
          "2014-10-01",
          "2014-11-01",
          "2014-12-01",
          "2015-01-01",
          "2015-02-01",
          "2015-03-01",
          "2015-04-01",
          "2015-05-01",
          "2015-06-01",
          "2015-07-01",
          "2015-08-01",
          "2015-09-01",
          "2015-10-01",
          "2015-11-01",
          "2015-12-01",
          "2016-01-01",
          "2016-02-01",
          "2016-03-01",
          "2016-04-01",
          "2016-05-01",
          "2016-06-01",
          "2016-07-01",
          "2016-08-01",
          "2016-09-01",
          "2016-10-01",
          "2016-11-01",
          "2016-12-01",
          "2017-01-01",
          "2017-02-01",
          "2017-03-01",
          "2017-04-01",
          "2017-05-01",
          "2017-06-01",
          "2017-07-01",
          "2017-08-01",
          "2017-09-01",
          "2017-10-01",
          "2017-11-01",
          "2017-12-01",
          "2018-01-01",
          "2018-02-01",
          "2018-03-01",
          "2018-04-01",
          "2018-05-01",
          "2018-06-01",
          "2018-07-01",
          "2018-08-01",
          "2018-09-01",
          "2018-10-01",
          "2018-11-01",
          "2018-12-01",
          "2019-01-01",
          "2019-02-01",
          "2019-03-01",
          "2019-04-01",
          "2019-05-01",
          "2019-06-01",
          "2019-07-01",
          "2019-08-01",
          "2019-09-01",
          "2019-10-01",
          "2019-11-01",
          "2019-12-01",
          "2020-01-01",
          "2020-02-01",
          "2020-03-01",
          "2020-04-01",
          "2020-05-01",
          "2020-06-01",
          "2020-07-01",
          "2020-08-01",
          "2020-09-01",
          "2020-10-01",
          "2020-11-01",
          "2020-12-01",
          "2021-01-01",
          "2021-02-01",
          "2021-03-01",
          "2021-04-01",
          "2021-05-01",
          "2021-06-01",
          "2021-07-01",
          "2021-08-01",
          "2021-09-01",
          "2021-10-01",
          "2021-11-01",
          "2021-12-01",
          "2022-01-01",
          "2022-02-01",
          "2022-03-01",
          "2022-04-01",
          "2022-05-01",
          "2022-06-01",
          "2022-07-01",
          "2022-08-01",
          "2022-09-01",
          "2022-10-01",
          "2022-11-01",
          "2022-12-01"
         ],
         "xaxis": "x",
         "y": {
          "bdata": "yAyvX+Ng60DP91Pj8R/oQE5iEFg5q+lA001iEFTF5kCF61G4mgDpQL+fGi9R3ehAEFg5tNzh5kB1kxgEkrjlQKRwPQprweNAZDvfTyXe5EAj2/l+OqbnQI9Y5ujApupAGy/dJPZF6ECBlUOLjBrkQPYoXI9qoORAXI/C9TSw5EBuEoPAim3kQEA1Xrq9s+ZAnu+nxvuz5UAfhetRjJDlQB1aZDuPvuRAokW288lT5UCkcD0KK8XlQIGVQ4s4EOdAz41Eo/646EA3HzIg3kLnQBBYObSQ0+ZAJzEIrABc6EDsUbgezYrrQC2yne/n9OlAu0kMAuPX50AxCKwcAjfmQFCNl27CQeRAtvP91KC05kDrUbgeVabnQDPJI/Nj9OlA55Gasecr60A/NV66pfnpQJzEILDCd+tA0SLb+W4J60CDwMqhUbvsQAwCK4eiEelAtMh2vhvU50CgGi/dgKPlQCcxCKyMCuRAqMZLN4Et5UCwcmiRdePnQNv5fmqEZ+hAeX8X8dTu6kBiEFg5yDfqQEA1Xrrp3OpAtvP91By56UDXo3A9enHpQP7UeOl+pudAXrpJDOKH50BSuB6Fq+DmQIlBYOUIYuRAvHSTGCRG5EAv3SQGAZnnQMBgkgXbXOhALUiOr0y+60CTGARWxnvqQJmZmZkVlOxAYOXQIhu660AnMQislHDuQOXQIts9UOxAyXa+n7pk6UBKDAIru6TnQESLbOcH3eVAuB6F64EG6EB56SYxLP7mQHsUrkdNoeZAk670FScn60Aaxc3kGv3sQFjPpIjbC+5ALbKd78vu7UDVeOkm6VPtQMuhRbYbf+1Arkfheowx6kDZzvdT19fnQGIQWDmkIeVAAiuHFmkh5UACK4cWPefmQLIz4GejOehAhYFCeLcw6UDZzvdTD3fmQK5H4XpwcupAokW287F550BMN4lBmELqQK5H4XpQa+hAObTIdsbb5kDVeOkm9S3nQNEi2/kmiuZACKwcWvBs5EDTTWIQSJ7mQPfp02WE5+lA0nL7oNH460B4gILGgHTqQLIUJPFbnO5AaeBHtent7UDh0caRMr3uQGlv8IUaIetAqUvGMU0W6EDCps4j5SnmQKeQK3VXDeRA+IvZEqCp40DeAgkKuzznQAIPDCDl4OlACm2UsDWW6kCO6J71rjHoQMbctQQDjOlAP3PWJ5i36UD21VWBoP/sQKK1os2OyOxA8aDZ9Qcp6UCXqUlwbQXnQCR9WsWfpuRASdki6XTG5UA//WfNiFrqQGx2pHoZCe1Al8yxPDlJ60ACgc6k54brQNLj9zadUe9APtAKDBm760CiR4yeJtDtQLex2ZF00utAwTv59F546kDNAYK5cnvpQEonEkwKZudAlNi1PRze6kApdjSOmJzoQE9HW9CXQetAVhdLzFSQ7UDpuYUu3mvtQEonEsws/+tAjJ/Gvezo6UC94qlHD7HsQHVVoBZ9WOtAYDsYsfqG6kBeo+VAitLoQLpqniPXLeRAq7UwizIn5EAyIlHoYmbmQOfmdmrADOpAyD8zCFwa6kABvts8mSPmQMZrXtUHIOlA+KV+3v346EDcDg0LpT3qQHIycavpiuhAWKzhovkS5kAXZqGd2YLkQDdWYh7eZ+JAIcfWszpe40AIA8+9tRHmQBcP77lJoOlA",
          "dtype": "f8"
         },
         "yaxis": "y"
        },
        {
         "hovertemplate": "Renewable Source=Other renewables<br>Date=%{x}<br>Electricity Generation (GWh)=%{y}<extra></extra>",
         "legendgroup": "Other renewables",
         "line": {
          "color": "#ab63fa",
          "dash": "solid"
         },
         "marker": {
          "symbol": "circle"
         },
         "mode": "lines",
         "name": "Other renewables",
         "showlegend": true,
         "type": "scattergl",
         "x": [
          "2010-01-01",
          "2010-02-01",
          "2010-03-01",
          "2010-04-01",
          "2010-05-01",
          "2010-06-01",
          "2010-07-01",
          "2010-08-01",
          "2010-09-01",
          "2010-10-01",
          "2010-11-01",
          "2010-12-01",
          "2011-01-01",
          "2011-02-01",
          "2011-03-01",
          "2011-04-01",
          "2011-05-01",
          "2011-06-01",
          "2011-07-01",
          "2011-08-01",
          "2011-09-01",
          "2011-10-01",
          "2011-11-01",
          "2011-12-01",
          "2012-01-01",
          "2012-02-01",
          "2012-03-01",
          "2012-04-01",
          "2012-05-01",
          "2012-06-01",
          "2012-07-01",
          "2012-08-01",
          "2012-09-01",
          "2012-10-01",
          "2012-11-01",
          "2012-12-01",
          "2013-01-01",
          "2013-02-01",
          "2013-03-01",
          "2013-04-01",
          "2013-05-01",
          "2013-06-01",
          "2013-07-01",
          "2013-08-01",
          "2013-09-01",
          "2013-10-01",
          "2013-11-01",
          "2013-12-01",
          "2014-01-01",
          "2014-02-01",
          "2014-03-01",
          "2014-04-01",
          "2014-05-01",
          "2014-06-01",
          "2014-07-01",
          "2014-08-01",
          "2014-09-01",
          "2014-10-01",
          "2014-11-01",
          "2014-12-01",
          "2015-01-01",
          "2015-02-01",
          "2015-03-01",
          "2015-04-01",
          "2015-05-01",
          "2015-06-01",
          "2015-07-01",
          "2015-08-01",
          "2015-09-01",
          "2015-10-01",
          "2015-11-01",
          "2015-12-01",
          "2016-01-01",
          "2016-02-01",
          "2016-03-01",
          "2016-04-01",
          "2016-05-01",
          "2016-06-01",
          "2016-07-01",
          "2016-08-01",
          "2016-09-01",
          "2016-10-01",
          "2016-11-01",
          "2016-12-01",
          "2017-01-01",
          "2017-02-01",
          "2017-03-01",
          "2017-04-01",
          "2017-05-01",
          "2017-06-01",
          "2017-07-01",
          "2017-08-01",
          "2017-09-01",
          "2017-10-01",
          "2017-11-01",
          "2017-12-01",
          "2018-01-01",
          "2018-02-01",
          "2018-03-01",
          "2018-04-01",
          "2018-05-01",
          "2018-06-01",
          "2018-07-01",
          "2018-08-01",
          "2018-09-01",
          "2018-10-01",
          "2018-11-01",
          "2018-12-01",
          "2019-01-01",
          "2019-02-01",
          "2019-03-01",
          "2019-04-01",
          "2019-05-01",
          "2019-06-01",
          "2019-07-01",
          "2019-08-01",
          "2019-09-01",
          "2019-10-01",
          "2019-11-01",
          "2019-12-01",
          "2020-01-01",
          "2020-02-01",
          "2020-03-01",
          "2020-04-01",
          "2020-05-01",
          "2020-06-01",
          "2020-07-01",
          "2020-08-01",
          "2020-09-01",
          "2020-10-01",
          "2020-11-01",
          "2020-12-01",
          "2021-01-01",
          "2021-02-01",
          "2021-03-01",
          "2021-04-01",
          "2021-05-01",
          "2021-06-01",
          "2021-07-01",
          "2021-08-01",
          "2021-09-01",
          "2021-10-01",
          "2021-11-01",
          "2021-12-01",
          "2022-01-01",
          "2022-02-01",
          "2022-03-01",
          "2022-04-01",
          "2022-05-01",
          "2022-06-01",
          "2022-07-01",
          "2022-08-01",
          "2022-09-01",
          "2022-10-01",
          "2022-11-01",
          "2022-12-01"
         ],
         "xaxis": "x",
         "y": {
          "bdata": "mG4Sg8CqQ0CYbhKDwKpDQJhuEoPAqkNAmG4Sg8CqQ0CYbhKDwKpDQJhuEoPAqkNAmG4Sg8CqQ0CYbhKDwKpDQJhuEoPAqkNAmG4Sg8CqQ0CYbhKDwKpDQJhuEoPAqkNArBxaZDuvQ0CsHFpkO69DQKwcWmQ7r0NArBxaZDuvQ0CsHFpkO69DQKwcWmQ7r0NArBxaZDuvQ0CsHFpkO69DQKwcWmQ7r0NArBxaZDuvQ0CsHFpkO69DQKwcWmQ7r0NAhxbZzvcDQ0CHFtnO9wNDQIcW2c73A0NAhxbZzvcDQ0CHFtnO9wNDQIcW2c73A0NAhxbZzvcDQ0CHFtnO9wNDQIcW2c73A0NAhxbZzvcDQ0CHFtnO9wNDQIcW2c73A0NAmG4Sg8A6QUCYbhKDwDpBQJhuEoPAOkFAmG4Sg8A6QUCYbhKDwDpBQJhuEoPAOkFAmG4Sg8A6QUCYbhKDwDpBQJhuEoPAOkFAmG4Sg8A6QUCYbhKDwDpBQJhuEoPAOkFAeekmMQjcQ0B56SYxCNxDQHnpJjEI3ENAeekmMQjcQ0B56SYxCNxDQHnpJjEI3ENAeekmMQjcQ0B56SYxCNxDQHnpJjEI3ENAeekmMQjcQ0B56SYxCNxDQHnpJjEI3ENAv58aL90kREC/nxov3SREQL+fGi/dJERAv58aL90kREC/nxov3SREQL+fGi/dJERAv58aL90kREC/nxov3SREQL+fGi/dJERAv58aL90kREC/nxov3SREQL+fGi/dJERAmZmZmZmZRECZmZmZmZlEQJmZmZmZmURAmZmZmZmZRECZmZmZmZlEQJmZmZmZmURAmZmZmZmZRECZmZmZmZlEQJmZmZmZmURAmZmZmZmZRECZmZmZmZlEQJmZmZmZmURAL90kBoGlRUAv3SQGgaVFQC/dJAaBpUVAL90kBoGlRUAv3SQGgaVFQC/dJAaBpUVAL90kBoGlRUAv3SQGgaVFQC/dJAaBpUVAL90kBoGlRUAv3SQGgaVFQC/dJAaBpUVA3BMktrsjREDcEyS2uyNEQNwTJLa7I0RA3BMktrsjREDcEyS2uyNEQNwTJLa7I0RA3BMktrsjREDcEyS2uyNEQNwTJLa7I0RA3BMktrsjREDcEyS2uyNEQNwTJLa7I0RAEeULWkgWRUAR5QtaSBZFQBHlC1pIFkVAEeULWkgWRUAR5QtaSBZFQBHlC1pIFkVAEeULWkgWRUAR5QtaSBZFQBHlC1pIFkVAEeULWkgWRUAR5QtaSBZFQBHlC1pIFkVAL90kBoFhRUAv3SQGgWFFQC/dJAaBYUVAL90kBoFhRUAv3SQGgWFFQC/dJAaBYUVAL90kBoFhRUAv3SQGgWFFQC/dJAaBYUVAL90kBoFhRUAv3SQGgWFFQC/dJAaBYUVAL90kBoFhRUAv3SQGgWFFQC/dJAaBYUVAL90kBoFhRUAv3SQGgWFFQC/dJAaBYUVAL90kBoFhRUAv3SQGgWFFQC/dJAaBYUVAL90kBoFhRUAv3SQGgWFFQC/dJAaBYUVA3SQGgZXjREDdJAaBleNEQN0kBoGV40RA3SQGgZXjREDdJAaBleNEQN0kBoGV40RA3SQGgZXjREDdJAaBleNEQN0kBoGV40RA3SQGgZXjREDdJAaBleNEQN0kBoGV40RA",
          "dtype": "f8"
         },
         "yaxis": "y"
        },
        {
         "hovertemplate": "Renewable Source=Other renewables aggregated<br>Date=%{x}<br>Electricity Generation (GWh)=%{y}<extra></extra>",
         "legendgroup": "Other renewables aggregated",
         "line": {
          "color": "#FFA15A",
          "dash": "solid"
         },
         "marker": {
          "symbol": "circle"
         },
         "mode": "lines",
         "name": "Other renewables aggregated",
         "showlegend": true,
         "type": "scattergl",
         "x": [
          "2010-01-01",
          "2010-02-01",
          "2010-03-01",
          "2010-04-01",
          "2010-05-01",
          "2010-06-01",
          "2010-07-01",
          "2010-08-01",
          "2010-09-01",
          "2010-10-01",
          "2010-11-01",
          "2010-12-01",
          "2011-01-01",
          "2011-02-01",
          "2011-03-01",
          "2011-04-01",
          "2011-05-01",
          "2011-06-01",
          "2011-07-01",
          "2011-08-01",
          "2011-09-01",
          "2011-10-01",
          "2011-11-01",
          "2011-12-01",
          "2012-01-01",
          "2012-02-01",
          "2012-03-01",
          "2012-04-01",
          "2012-05-01",
          "2012-06-01",
          "2012-07-01",
          "2012-08-01",
          "2012-09-01",
          "2012-10-01",
          "2012-11-01",
          "2012-12-01",
          "2013-01-01",
          "2013-02-01",
          "2013-03-01",
          "2013-04-01",
          "2013-05-01",
          "2013-06-01",
          "2013-07-01",
          "2013-08-01",
          "2013-09-01",
          "2013-10-01",
          "2013-11-01",
          "2013-12-01",
          "2014-01-01",
          "2014-02-01",
          "2014-03-01",
          "2014-04-01",
          "2014-05-01",
          "2014-06-01",
          "2014-07-01",
          "2014-08-01",
          "2014-09-01",
          "2014-10-01",
          "2014-11-01",
          "2014-12-01",
          "2015-01-01",
          "2015-02-01",
          "2015-03-01",
          "2015-04-01",
          "2015-05-01",
          "2015-06-01",
          "2015-07-01",
          "2015-08-01",
          "2015-09-01",
          "2015-10-01",
          "2015-11-01",
          "2015-12-01",
          "2016-01-01",
          "2016-02-01",
          "2016-03-01",
          "2016-04-01",
          "2016-05-01",
          "2016-06-01",
          "2016-07-01",
          "2016-08-01",
          "2016-09-01",
          "2016-10-01",
          "2016-11-01",
          "2016-12-01",
          "2017-01-01",
          "2017-02-01",
          "2017-03-01",
          "2017-04-01",
          "2017-05-01",
          "2017-06-01",
          "2017-07-01",
          "2017-08-01",
          "2017-09-01",
          "2017-10-01",
          "2017-11-01",
          "2017-12-01",
          "2018-01-01",
          "2018-02-01",
          "2018-03-01",
          "2018-04-01",
          "2018-05-01",
          "2018-06-01",
          "2018-07-01",
          "2018-08-01",
          "2018-09-01",
          "2018-10-01",
          "2018-11-01",
          "2018-12-01",
          "2019-01-01",
          "2019-02-01",
          "2019-03-01",
          "2019-04-01",
          "2019-05-01",
          "2019-06-01",
          "2019-07-01",
          "2019-08-01",
          "2019-09-01",
          "2019-10-01",
          "2019-11-01",
          "2019-12-01",
          "2020-01-01",
          "2020-02-01",
          "2020-03-01",
          "2020-04-01",
          "2020-05-01",
          "2020-06-01",
          "2020-07-01",
          "2020-08-01",
          "2020-09-01",
          "2020-10-01",
          "2020-11-01",
          "2020-12-01",
          "2021-01-01",
          "2021-02-01",
          "2021-03-01",
          "2021-04-01",
          "2021-05-01",
          "2021-06-01",
          "2021-07-01",
          "2021-08-01",
          "2021-09-01",
          "2021-10-01",
          "2021-11-01",
          "2021-12-01",
          "2022-01-01",
          "2022-02-01",
          "2022-03-01",
          "2022-04-01",
          "2022-05-01",
          "2022-06-01",
          "2022-07-01",
          "2022-08-01",
          "2022-09-01",
          "2022-10-01",
          "2022-11-01",
          "2022-12-01"
         ],
         "xaxis": "x",
         "y": {
          "bdata": "FtnO90OlxkDZzvdTQ/jEQI2XbhLz8cVATmIQWIldxECbxCCwAjjEQPhT46UrJMNA8tJNYgAOxEArhxbZPnTDQOxRuB6VrsNA7FG4HrWlxUDJdr6f2lPGQKwcWmTbGcdAVOOlm3SRyEBeukkMErzHQIGVQ4tcushAH4XrUSi4xUD0/dR4KQLGQFYOLbIdKcRAppvEIDAmxUDVeOkmQUPEQMHKoUUm4cRA1XjpJnHhxUBKDAIrJ1nHQPp+arwkJ8hARrbz/VQwy0CBlUOL/PjKQCGwcmgRO8pAnu+nxttTyEAVrkfhSkTHQKrx0k3ygsZAaJHtfN+hx0B7FK5HEQbIQDMzMzPDVMdAjZduEjN3yEBmZmZmNlXJQN0kBoG1pspAvHSTGHQBzkAbL90kFn7LQMUgsHJI4sxA7FG4HsWCyUAMAiuHVpvIQC2yne9nw8ZA0SLb+e6CyUA1XrpJPBjJQIts5/t5QslA6SYxCCzBykDTTWIQmGLLQK5H4XqkccxAokW2890MzUDm0CLbyd/JQBSuR+HqmcxA46WbxMBAykBcj8L1SHrKQKjGSzeZNMpA30+Nl87LykD4U+OlWx7KQNv5fmq8XMtAi2zn+6kzzkCiRbbzDZzOQMUgsHJAU9BA6Pup8TJl0EBU46WbpEDPQHsUrkfBV9BAEoPAynGTzUDufD81nmjMQPLSTWLgxcpAf2q8dLONzEB56SYxSJjLQIts5/spzstASgwCK2fmz0BqvHSTQFrQQEw3iUHACtFAz/dT402U0UDo+6nx0rLPQIGVQ4vc4tBAhetRuF7UzUBANV666XLNQClcj8JVGctA2c73U/POy0AOLbKdHx3LQHsUrkex9ctAf2q8dMNLz0AK16NwDa7QQBkEVg7NGdJADi2ynfe70EDP91PjrTLQQIPAyqE18dBAppvEILBdz0Coxks3OTvPQFpkO98fBc1A1XjpJoF8zkCUGARWTs3OQJZDi2xHDc1AuB6F65HLzkAnMQisJADRQN9PjZcupNFAQPz8985X0UAFTyFX10bQQIhM+RB7SdFABKkUO/b3z0DRzf5ALajPQL6/QXs9fs1Ams3jMKz4zkBIE+8Ac4zPQE30+SiNgc9AWFaalBQN0UCkqgmieZLRQPsfYK0antJArroO1REA00Dsvfii7/HRQFJlGHeajNJA9rnaik+P0ED8pNqnnGjQQGyvBb0hLs9ATMXGvHUf0EC4XWiuIJXQQDSCjetXCM9A1VxuMMXw0EDb/L/qsITSQItrfCbgvdNAV5V9V+F300DqeqLr/L7RQGCRXz9PJ9NA7IMsC86y0UCBBwYQZGLRQI7qdCDXWNBAQRGLGN3O0EBq3Jvfap/QQNyGURC7W9BAI/d0dTxc0UBEUDV6fXjSQCklBKv6KNRA+BdBY+Lb1ECfq63YeebSQB3mywvl09RARL3g07280kCe0OtPxLzSQOVEuwre6dBA7Sqk/Bew0UDzy2CMXG/SQJighm8YztFAos9HGdJg00C4dTdPfDXUQLt+wW7j69VAGVWGcQug1ECyRj1EIszSQEnyXN8PtNRAxqF+FwI20kAbKsb5R4LRQM6luKrhKNFAtD16w+l60UCDL0ymrIvRQIARNGZCN9FAQq7Us8ve0ECAKm7cGWPSQIB/SpWgG9RA",
          "dtype": "f8"
         },
         "yaxis": "y"
        },
        {
         "hovertemplate": "Renewable Source=Renewables<br>Date=%{x}<br>Electricity Generation (GWh)=%{y}<extra></extra>",
         "legendgroup": "Renewables",
         "line": {
          "color": "#19d3f3",
          "dash": "solid"
         },
         "marker": {
          "symbol": "circle"
         },
         "mode": "lines",
         "name": "Renewables",
         "showlegend": true,
         "type": "scattergl",
         "x": [
          "2010-01-01",
          "2010-02-01",
          "2010-03-01",
          "2010-04-01",
          "2010-05-01",
          "2010-06-01",
          "2010-07-01",
          "2010-08-01",
          "2010-09-01",
          "2010-10-01",
          "2010-11-01",
          "2010-12-01",
          "2011-01-01",
          "2011-02-01",
          "2011-03-01",
          "2011-04-01",
          "2011-05-01",
          "2011-06-01",
          "2011-07-01",
          "2011-08-01",
          "2011-09-01",
          "2011-10-01",
          "2011-11-01",
          "2011-12-01",
          "2012-01-01",
          "2012-02-01",
          "2012-03-01",
          "2012-04-01",
          "2012-05-01",
          "2012-06-01",
          "2012-07-01",
          "2012-08-01",
          "2012-09-01",
          "2012-10-01",
          "2012-11-01",
          "2012-12-01",
          "2013-01-01",
          "2013-02-01",
          "2013-03-01",
          "2013-04-01",
          "2013-05-01",
          "2013-06-01",
          "2013-07-01",
          "2013-08-01",
          "2013-09-01",
          "2013-10-01",
          "2013-11-01",
          "2013-12-01",
          "2014-01-01",
          "2014-02-01",
          "2014-03-01",
          "2014-04-01",
          "2014-05-01",
          "2014-06-01",
          "2014-07-01",
          "2014-08-01",
          "2014-09-01",
          "2014-10-01",
          "2014-11-01",
          "2014-12-01",
          "2015-01-01",
          "2015-02-01",
          "2015-03-01",
          "2015-04-01",
          "2015-05-01",
          "2015-06-01",
          "2015-07-01",
          "2015-08-01",
          "2015-09-01",
          "2015-10-01",
          "2015-11-01",
          "2015-12-01",
          "2016-01-01",
          "2016-02-01",
          "2016-03-01",
          "2016-04-01",
          "2016-05-01",
          "2016-06-01",
          "2016-07-01",
          "2016-08-01",
          "2016-09-01",
          "2016-10-01",
          "2016-11-01",
          "2016-12-01",
          "2017-01-01",
          "2017-02-01",
          "2017-03-01",
          "2017-04-01",
          "2017-05-01",
          "2017-06-01",
          "2017-07-01",
          "2017-08-01",
          "2017-09-01",
          "2017-10-01",
          "2017-11-01",
          "2017-12-01",
          "2018-01-01",
          "2018-02-01",
          "2018-03-01",
          "2018-04-01",
          "2018-05-01",
          "2018-06-01",
          "2018-07-01",
          "2018-08-01",
          "2018-09-01",
          "2018-10-01",
          "2018-11-01",
          "2018-12-01",
          "2019-01-01",
          "2019-02-01",
          "2019-03-01",
          "2019-04-01",
          "2019-05-01",
          "2019-06-01",
          "2019-07-01",
          "2019-08-01",
          "2019-09-01",
          "2019-10-01",
          "2019-11-01",
          "2019-12-01",
          "2020-01-01",
          "2020-02-01",
          "2020-03-01",
          "2020-04-01",
          "2020-05-01",
          "2020-06-01",
          "2020-07-01",
          "2020-08-01",
          "2020-09-01",
          "2020-10-01",
          "2020-11-01",
          "2020-12-01",
          "2021-01-01",
          "2021-02-01",
          "2021-03-01",
          "2021-04-01",
          "2021-05-01",
          "2021-06-01",
          "2021-07-01",
          "2021-08-01",
          "2021-09-01",
          "2021-10-01",
          "2021-11-01",
          "2021-12-01",
          "2022-01-01",
          "2022-02-01",
          "2022-03-01",
          "2022-04-01",
          "2022-05-01",
          "2022-06-01",
          "2022-07-01",
          "2022-08-01",
          "2022-09-01",
          "2022-10-01",
          "2022-11-01",
          "2022-12-01"
         ],
         "xaxis": "x",
         "y": {
          "bdata": "ZrFexn7f80Bg5dAiRWPyQHnpJjF+/fNAnMQgsHwt8UC7SQwC8VnyQHNoke2gjvFAEoPAynni8EAj2/l+mpTwQMh2vp+y++5ArBxaZL9d8UAGgZVDebvyQEUB7F09HfRAsp3vp45B80DrUbgeg5fxQE5iEFg5FPJAsHJokZmP8UAIrBxapKLxQDm0yHZO6fFAd76fGlEa8kCUGARWrIzxQIPAyqGxbfFA9P3UeF+A8kBkO99PdyHyQGAwyYIdK/VAwGCSBWOL9UCWjoPMk4j0QNv5fmrIW/RAaJHtfKk39UD2KFyPUl72QOkmMQj+QvVAUrgehaUz9ED8qfHSQUPzQJQYBFZ8svJA/tR46Sx/80ACK4cWn3L0QLY+9jSx1vZAxGuo0jaX90CuR+F6QA32QMRrqNLwlvhAxCCwcopz90BKDAIrM+/3QF4FQmx+0/VA0SLb+RIS9UCVQ4ts4wr0QLbz/dTQ5PJAJVF59d2a9EAK16NwtRD2QOPwkySJcvdAUk4PRVo2+UAxU6R8eHX4QGaxXsa8tfhAUNiPzhr09kAGzI2j8wn3QM9CTEM6UfVAsL1g8TmU9UDtxzeVnmP1QAIrhxbTwfJArkfheq6f9EBzaJHtpt31QNPjUtAeAfhAsAhZUcxo+kBg5dAidyL5QMeWL+lV3fpAXNq6VaF2+UBMgoGh2D37QH2KLb4Q4fhAK9IOOVMf+ED2c1Tvorj2QDN+K5PJ3PVAGy/dJHDH9kDdb/7g9/v3QBIZsYrgNfhAiddQpXfh+kCXBANDS5v7QNc5Yf0Un/tAgwvDAX7t+kAzfiuT1WH6QN1v/uDLZ/lAXNq6VXl3+EA7Kkjtx7n3QH2KLb6+a/VAPzVeuvev9UDw8r6rh8v3QKqHww1H5PhAPaDHYyer+UAKIpzQhVH4QJwPGRB7MPtAK9IOOfer+EBeBUJs5n35QEPWZEeGm/hAJ3wADAcY+ED6yWIcLRH4QG5deyCNF/dAuGl9S6qY90C+NQvvLSH4QNUO2uZLxftAxerqCdag/EAS/Mo+0176QN+9SJ0Jev5AszitFcOJ/EBX3TR3wN/7QGGfSsfW2flAKOMppXMG+EAzgAG+Xir4QMxv4uXNXfdAvItBYeNi+EBEOSwIC+z5QJ2kVD3kevtASVItnduA/EAmuKKOHvP6QMznJiuE8f1A1AUGyrhD+0AQ7il0r3D8QC4tNNGBIfxAvYW/YDo++kCcfwXqTbD5QKohu0wbzfhA9c6y6Ksz+UDd/TtcE4L8QBtSoAqCQv9A+oEGFpPM/kC6YBVk15H/QBiAoYKDfABBmG0Ch1cv/UA0jBab5o/+QHu17bW+cfxAC6vCIOLU/EDLenvR/pX7QCmJNkGjAftAjDELKHS//UASVr4irtz7QNw1fIYYq/5ANgsPlVPF/0BX1SZJov7/QMCpWcEjOwBBatK3Rkq5/UA+h0MwK9v/QFyJivJBdfxAyFV2ezFX/UDYkTT5eLb8QPBD784kY/lAvEvzCP+q/EDIKCqW6DD8QJbxSg1NoP9A1roepmIBAEGybaw/MAP/QNiXEVPTgv9AedIdf9x4/0BlXMwK94L/QE5TFVRX5P1AhVMw5Jbh/UASfvOceLb7QF3yibb6dfpAXD9YQUyA/ED0pPEADpf9QKPQDYgqrf5A",
          "dtype": "f8"
         },
         "yaxis": "y"
        },
        {
         "hovertemplate": "Renewable Source=Solar<br>Date=%{x}<br>Electricity Generation (GWh)=%{y}<extra></extra>",
         "legendgroup": "Solar",
         "line": {
          "color": "#FF6692",
          "dash": "solid"
         },
         "marker": {
          "symbol": "circle"
         },
         "mode": "lines",
         "name": "Solar",
         "showlegend": true,
         "type": "scattergl",
         "x": [
          "2010-01-01",
          "2010-02-01",
          "2010-03-01",
          "2010-04-01",
          "2010-05-01",
          "2010-06-01",
          "2010-07-01",
          "2010-08-01",
          "2010-09-01",
          "2010-10-01",
          "2010-11-01",
          "2010-12-01",
          "2011-01-01",
          "2011-02-01",
          "2011-03-01",
          "2011-04-01",
          "2011-05-01",
          "2011-06-01",
          "2011-07-01",
          "2011-08-01",
          "2011-09-01",
          "2011-10-01",
          "2011-11-01",
          "2011-12-01",
          "2012-01-01",
          "2012-02-01",
          "2012-03-01",
          "2012-04-01",
          "2012-05-01",
          "2012-06-01",
          "2012-07-01",
          "2012-08-01",
          "2012-09-01",
          "2012-10-01",
          "2012-11-01",
          "2012-12-01",
          "2013-01-01",
          "2013-02-01",
          "2013-03-01",
          "2013-04-01",
          "2013-05-01",
          "2013-06-01",
          "2013-07-01",
          "2013-08-01",
          "2013-09-01",
          "2013-10-01",
          "2013-11-01",
          "2013-12-01",
          "2014-01-01",
          "2014-02-01",
          "2014-03-01",
          "2014-04-01",
          "2014-05-01",
          "2014-06-01",
          "2014-07-01",
          "2014-08-01",
          "2014-09-01",
          "2014-10-01",
          "2014-11-01",
          "2014-12-01",
          "2015-01-01",
          "2015-02-01",
          "2015-03-01",
          "2015-04-01",
          "2015-05-01",
          "2015-06-01",
          "2015-07-01",
          "2015-08-01",
          "2015-09-01",
          "2015-10-01",
          "2015-11-01",
          "2015-12-01",
          "2016-01-01",
          "2016-02-01",
          "2016-03-01",
          "2016-04-01",
          "2016-05-01",
          "2016-06-01",
          "2016-07-01",
          "2016-08-01",
          "2016-09-01",
          "2016-10-01",
          "2016-11-01",
          "2016-12-01",
          "2017-01-01",
          "2017-02-01",
          "2017-03-01",
          "2017-04-01",
          "2017-05-01",
          "2017-06-01",
          "2017-07-01",
          "2017-08-01",
          "2017-09-01",
          "2017-10-01",
          "2017-11-01",
          "2017-12-01",
          "2018-01-01",
          "2018-02-01",
          "2018-03-01",
          "2018-04-01",
          "2018-05-01",
          "2018-06-01",
          "2018-07-01",
          "2018-08-01",
          "2018-09-01",
          "2018-10-01",
          "2018-11-01",
          "2018-12-01",
          "2019-01-01",
          "2019-02-01",
          "2019-03-01",
          "2019-04-01",
          "2019-05-01",
          "2019-06-01",
          "2019-07-01",
          "2019-08-01",
          "2019-09-01",
          "2019-10-01",
          "2019-11-01",
          "2019-12-01",
          "2020-01-01",
          "2020-02-01",
          "2020-03-01",
          "2020-04-01",
          "2020-05-01",
          "2020-06-01",
          "2020-07-01",
          "2020-08-01",
          "2020-09-01",
          "2020-10-01",
          "2020-11-01",
          "2020-12-01",
          "2021-01-01",
          "2021-02-01",
          "2021-03-01",
          "2021-04-01",
          "2021-05-01",
          "2021-06-01",
          "2021-07-01",
          "2021-08-01",
          "2021-09-01",
          "2021-10-01",
          "2021-11-01",
          "2021-12-01",
          "2022-01-01",
          "2022-02-01",
          "2022-03-01",
          "2022-04-01",
          "2022-05-01",
          "2022-06-01",
          "2022-07-01",
          "2022-08-01",
          "2022-09-01",
          "2022-10-01",
          "2022-11-01",
          "2022-12-01"
         ],
         "xaxis": "x",
         "y": {
          "bdata": "MzMzMzOmiUAtsp3vpy2QQAwCK4cWKZ1A/Knx0s0co0C38/3UuCmiQEJg5dBirKVANV66SYylpkDFILByaGOkQMP1KFxPRqJA8tJNYpDSnUAtsp3vp8GOQIXrUbieC5NATmIQWDmGkUCBlUOLbEudQG8Sg8BKY6tAWmQ736+askAxCKwc2tG0QN0kBoF1zbNA4XoUrmfWtkAhsHJoEdO2QGIQWDl0C7VAWDm0yFbZsEAnMQisXBGjQArXo3C9d5tANV66Scy3okAUrkfhuo+rQFyPwvVox7hA8tJNYlAnuEDjpZvEgInBQJ7vp8abccBA9ihcj/JnwUB7FK5HYZLBQFpkO9+viLpAsp3vp2a2s0AOLbKd7yKkQBFYObRIFJ9AFa5H4br1oECDwMqhhb+pQLx0kxhEm7dAz/dT42WpwEBWDi2yjW/CQMP1KFyvt8VAGQRWDt2JyEAfhetRCDDFQCGwcmixj75AmpmZmXmMtkBoke18/8apQDzfT40XRKdAVOOlm0QCpkBwPQrXQ6KxQOF6FK5XCMFAvp8aL805w0BCYOXQQn7GQBsv3STmhMhAcT0K13Pzx0Aj2/l+invGQIlBYOUAJcFANV66ScwfuUApXI/CNbSqQGdmZmbmaqRAwMqhRTYiqkBuEoPASseyQGzn+6kxnsBA2c73UyMcyEBiEFg51OjJQGIQWDk0GctAK4cW2a6bzEAYBFYO3czJQGIQWDn0wsNAbef7qRF/uUCVQ4tsZyOyQCPb+X5qRatAxSCwcihvq0DufD813vWzQNejcD1qS8BAAAAAALChxkDwp8ZLVxvLQJqZmZk5RcxAukkMAkuHzUDC9Shc/4TMQOOlm8Rgz8ZAUI2XbpIoukApXI/CFYywQClcj8J1oKtAcmiR7Xycr0BU46WbpL20QMHKoUUmW8RArBxaZNuSyUCUGARWjg3NQIXrUbjei89ANV66Sfwhz0DfT42XTjjNQDvfT41nA8ZAL90kBjGjwED4U+Ol24OyQFYOLbJdZqtAVB1yM8hOsECuCz84O5+5QEmAmloC/8FAdXlzuH6QzEDuIHam6vPQQP3c0JS8wNBArOP4odBR0kCKWMSwZiPQQDMZjucpsspAvd2SHGy+wkCxh/axUpuzQOOo3ESlJ65A0sWmleqpsUBXs874gii/QHv3x3tNZsdANs07TrGezUCZnNoZ11HQQAsqqn4L+NJAiLoPQElN0kA5ChAF6lXRQAb0wp3VWctAQ5CDEhoYw0DXpNsSjU6zQFmK5Csxg7FAuY5xxb1HtkCrWz0nFTfAQOnvpfAKyspAYU87/C/q0kC+hXXjt7/UQALwT6mm/dNA/wbt1fSD1UCVDtb/u47TQNKQ8ShQK9BAS3ZsBE4bxEDqQNZTTze4QG9FYoI+HrFAkxywqzG1s0Ah6dMqiEjBQDifOlbtmc5ACvZf5xom00DTbB6HiVTWQA8O9ib1VdhAI2sNpWWj10CmgLT/yVnVQOI7MetSJdJAWn9LABoOy0CWW1oNHV28QOihtg2LILVAHM78avYIvkCfsMQD0BfGQBNkBFTemdJA6s9+pOTr1kC9HkyKaZbcQIWvr3WoYd1AKA8LtcrX3kAdG4F4l23cQG5PkNhbC9VASP5g4I4e0ECci7/tC0HCQG/W4H01U7hA",
          "dtype": "f8"
         },
         "yaxis": "y"
        },
        {
         "hovertemplate": "Renewable Source=Wind<br>Date=%{x}<br>Electricity Generation (GWh)=%{y}<extra></extra>",
         "legendgroup": "Wind",
         "line": {
          "color": "#B6E880",
          "dash": "solid"
         },
         "marker": {
          "symbol": "circle"
         },
         "mode": "lines",
         "name": "Wind",
         "showlegend": true,
         "type": "scattergl",
         "x": [
          "2010-01-01",
          "2010-02-01",
          "2010-03-01",
          "2010-04-01",
          "2010-05-01",
          "2010-06-01",
          "2010-07-01",
          "2010-08-01",
          "2010-09-01",
          "2010-10-01",
          "2010-11-01",
          "2010-12-01",
          "2011-01-01",
          "2011-02-01",
          "2011-03-01",
          "2011-04-01",
          "2011-05-01",
          "2011-06-01",
          "2011-07-01",
          "2011-08-01",
          "2011-09-01",
          "2011-10-01",
          "2011-11-01",
          "2011-12-01",
          "2012-01-01",
          "2012-02-01",
          "2012-03-01",
          "2012-04-01",
          "2012-05-01",
          "2012-06-01",
          "2012-07-01",
          "2012-08-01",
          "2012-09-01",
          "2012-10-01",
          "2012-11-01",
          "2012-12-01",
          "2013-01-01",
          "2013-02-01",
          "2013-03-01",
          "2013-04-01",
          "2013-05-01",
          "2013-06-01",
          "2013-07-01",
          "2013-08-01",
          "2013-09-01",
          "2013-10-01",
          "2013-11-01",
          "2013-12-01",
          "2014-01-01",
          "2014-02-01",
          "2014-03-01",
          "2014-04-01",
          "2014-05-01",
          "2014-06-01",
          "2014-07-01",
          "2014-08-01",
          "2014-09-01",
          "2014-10-01",
          "2014-11-01",
          "2014-12-01",
          "2015-01-01",
          "2015-02-01",
          "2015-03-01",
          "2015-04-01",
          "2015-05-01",
          "2015-06-01",
          "2015-07-01",
          "2015-08-01",
          "2015-09-01",
          "2015-10-01",
          "2015-11-01",
          "2015-12-01",
          "2016-01-01",
          "2016-02-01",
          "2016-03-01",
          "2016-04-01",
          "2016-05-01",
          "2016-06-01",
          "2016-07-01",
          "2016-08-01",
          "2016-09-01",
          "2016-10-01",
          "2016-11-01",
          "2016-12-01",
          "2017-01-01",
          "2017-02-01",
          "2017-03-01",
          "2017-04-01",
          "2017-05-01",
          "2017-06-01",
          "2017-07-01",
          "2017-08-01",
          "2017-09-01",
          "2017-10-01",
          "2017-11-01",
          "2017-12-01",
          "2018-01-01",
          "2018-02-01",
          "2018-03-01",
          "2018-04-01",
          "2018-05-01",
          "2018-06-01",
          "2018-07-01",
          "2018-08-01",
          "2018-09-01",
          "2018-10-01",
          "2018-11-01",
          "2018-12-01",
          "2019-01-01",
          "2019-02-01",
          "2019-03-01",
          "2019-04-01",
          "2019-05-01",
          "2019-06-01",
          "2019-07-01",
          "2019-08-01",
          "2019-09-01",
          "2019-10-01",
          "2019-11-01",
          "2019-12-01",
          "2020-01-01",
          "2020-02-01",
          "2020-03-01",
          "2020-04-01",
          "2020-05-01",
          "2020-06-01",
          "2020-07-01",
          "2020-08-01",
          "2020-09-01",
          "2020-10-01",
          "2020-11-01",
          "2020-12-01",
          "2021-01-01",
          "2021-02-01",
          "2021-03-01",
          "2021-04-01",
          "2021-05-01",
          "2021-06-01",
          "2021-07-01",
          "2021-08-01",
          "2021-09-01",
          "2021-10-01",
          "2021-11-01",
          "2021-12-01",
          "2022-01-01",
          "2022-02-01",
          "2022-03-01",
          "2022-04-01",
          "2022-05-01",
          "2022-06-01",
          "2022-07-01",
          "2022-08-01",
          "2022-09-01",
          "2022-10-01",
          "2022-11-01",
          "2022-12-01"
         ],
         "xaxis": "x",
         "y": {
          "bdata": "GARWDk11yUCoxks3aZzLQMDKoUX2p89AxSCwctgxxUA1XrpJrArGQJMYBFZ+cMBA001iEPjUwUDo+6nxcjXFQDeJQWD1qMRAhetRuF4VzkC7SQwC6wLPQCGwcmghGc1AiUFg5WAyzkAlBoGVM3bQQHsUrkfxjM5AxSCwcni2ykB7FK5H4fPKQAisHFqka8ZAKVyPwjVxyUA730+NZ3bGQLTIdr5vDMlAy6FFttsy0EAAAAAAkNnNQFk5tMiOu9lAWDm0yHbM1UCcxCCwUuDSQGQ730+deNBAyXa+n+Ly0UAIrBxalPnLQFCNl27CT8tASOF6FM4zyUAlBoGVk6XHQPyp8dK9889AsHJokX3UzkBcj8L12E7TQPYoXI/6Y9hA9ihcj1IT10CcxCCwukrTQClcj8IVJNdAlBgEVjal0kDwp8ZLt8DQQLKd76emqc9AzczMzFwzx0DZzvdT04DLQHsUrkcBcs5AwMqhRZaq1UCyne+nvpHXQJDC9SjUEN5AAAAAALgx3kCiRbbzLbDcQIlBYOW4XNdAx0s3iUHd0UAzMzMzKzzSQB+F61E4z8lAZmZmZiaAzEBzaJHtnLDQQIcW2c63BMhAbef7qamQ1EAW2c73C6DVQGiR7XyXmN9ATmIQWB334EAUrkfhKkDbQM/3U+MFFd1ATDeJQWi/1kCwcmiR7Z7YQHnpJjG4O9JA1XjpJnke1UAZBFYOrWPSQEw3iUHAENVA+n5qvMS91ECyne+nXpTgQH9qvHTnROJAoBov3QTn4UBBYOXQzjDiQLbz/dTQjNtAIbByaHnF2EAj2/l+6lrXQL10kxicytFAokW28/W+00ASg8DKgRLWQC2yne9XjtJAZ2ZmZgZN1kCamZmZKQbeQKabxCBEFuBAFK5H4RYN4EAMAiuHnnThQEoMAitTW+FAtvP91BBY3EAK16NwJSvXQIPAyqE9/NhAVOOlmwSs10C4HoXrQZ/XQCUGgZWzedhAQDVeur3Y4kAMAiuHriXhQMBgkgVf4OZAGNi+O+Fm5kBcIaxGIV3gQGBa1Kf6yuRAWoEhq2sh30Bzu5f7bwrYQPloccZ90NVA3c1THUq50UCbkNYY6oPYQLxdL03w19xA0/nwLHjb4kCd2EP7dwDjQOsGZdUZWOVA5DSfLm1o5kDHgVfLW4fjQHFdjDyd5udAdQDE3TOq4EAI5BJHuH3eQEj5SbU1ktpAPudu1/tO2UD9Z82Pp9vaQNyAzw85DOFAMdKL2uDN4kDS3uALQbvkQHP61VexQulAsqYNQkB+6UBb8WieA3brQMdsJMQFBOlAvcXD+06h4EAUeCefbJbfQICbxYu/u9pAxa9Ywzls3kBRFOgTKSLcQNMXQk6dIOBAybK7e/hu50CSeHm6vYflQEDBxQoyEelAFAmmGrzs50Dj/46ozjboQDYHCGY7W+dAP1bwW6JU4kBljuXdRxjjQL5KPnZ2idZA5+CZ0JJE3ECi7gOQ+hXgQCdO7nd8tNxA2JlC53QW6UBqF9NMVcnmQHVXdsFZPOtAOaLWb18X7EAEIh8vBsftQNI1k29hReZA0lJ5O/2T5kBKPnaXYQXiQLBwkuZW3d1Aij+KOgVF4UBBmxw+UOrbQAJHAo0B0eFA/FdWGqrM6EBseeV67iXrQPTdray11ulA",
          "dtype": "f8"
         },
         "yaxis": "y"
        }
       ],
       "layout": {
        "legend": {
         "title": {
          "text": "Renewable Source"
         },
         "tracegroupgap": 0
        },
        "template": {
         "data": {
          "bar": [
           {
            "error_x": {
             "color": "#2a3f5f"
            },
            "error_y": {
             "color": "#2a3f5f"
            },
            "marker": {
             "line": {
              "color": "white",
              "width": 0.5
             },
             "pattern": {
              "fillmode": "overlay",
              "size": 10,
              "solidity": 0.2
             }
            },
            "type": "bar"
           }
          ],
          "barpolar": [
           {
            "marker": {
             "line": {
              "color": "white",
              "width": 0.5
             },
             "pattern": {
              "fillmode": "overlay",
              "size": 10,
              "solidity": 0.2
             }
            },
            "type": "barpolar"
           }
          ],
          "carpet": [
           {
            "aaxis": {
             "endlinecolor": "#2a3f5f",
             "gridcolor": "#C8D4E3",
             "linecolor": "#C8D4E3",
             "minorgridcolor": "#C8D4E3",
             "startlinecolor": "#2a3f5f"
            },
            "baxis": {
             "endlinecolor": "#2a3f5f",
             "gridcolor": "#C8D4E3",
             "linecolor": "#C8D4E3",
             "minorgridcolor": "#C8D4E3",
             "startlinecolor": "#2a3f5f"
            },
            "type": "carpet"
           }
          ],
          "choropleth": [
           {
            "colorbar": {
             "outlinewidth": 0,
             "ticks": ""
            },
            "type": "choropleth"
           }
          ],
          "contour": [
           {
            "colorbar": {
             "outlinewidth": 0,
             "ticks": ""
            },
            "colorscale": [
             [
              0,
              "#0d0887"
             ],
             [
              0.1111111111111111,
              "#46039f"
             ],
             [
              0.2222222222222222,
              "#7201a8"
             ],
             [
              0.3333333333333333,
              "#9c179e"
             ],
             [
              0.4444444444444444,
              "#bd3786"
             ],
             [
              0.5555555555555556,
              "#d8576b"
             ],
             [
              0.6666666666666666,
              "#ed7953"
             ],
             [
              0.7777777777777778,
              "#fb9f3a"
             ],
             [
              0.8888888888888888,
              "#fdca26"
             ],
             [
              1,
              "#f0f921"
             ]
            ],
            "type": "contour"
           }
          ],
          "contourcarpet": [
           {
            "colorbar": {
             "outlinewidth": 0,
             "ticks": ""
            },
            "type": "contourcarpet"
           }
          ],
          "heatmap": [
           {
            "colorbar": {
             "outlinewidth": 0,
             "ticks": ""
            },
            "colorscale": [
             [
              0,
              "#0d0887"
             ],
             [
              0.1111111111111111,
              "#46039f"
             ],
             [
              0.2222222222222222,
              "#7201a8"
             ],
             [
              0.3333333333333333,
              "#9c179e"
             ],
             [
              0.4444444444444444,
              "#bd3786"
             ],
             [
              0.5555555555555556,
              "#d8576b"
             ],
             [
              0.6666666666666666,
              "#ed7953"
             ],
             [
              0.7777777777777778,
              "#fb9f3a"
             ],
             [
              0.8888888888888888,
              "#fdca26"
             ],
             [
              1,
              "#f0f921"
             ]
            ],
            "type": "heatmap"
           }
          ],
          "histogram": [
           {
            "marker": {
             "pattern": {
              "fillmode": "overlay",
              "size": 10,
              "solidity": 0.2
             }
            },
            "type": "histogram"
           }
          ],
          "histogram2d": [
           {
            "colorbar": {
             "outlinewidth": 0,
             "ticks": ""
            },
            "colorscale": [
             [
              0,
              "#0d0887"
             ],
             [
              0.1111111111111111,
              "#46039f"
             ],
             [
              0.2222222222222222,
              "#7201a8"
             ],
             [
              0.3333333333333333,
              "#9c179e"
             ],
             [
              0.4444444444444444,
              "#bd3786"
             ],
             [
              0.5555555555555556,
              "#d8576b"
             ],
             [
              0.6666666666666666,
              "#ed7953"
             ],
             [
              0.7777777777777778,
              "#fb9f3a"
             ],
             [
              0.8888888888888888,
              "#fdca26"
             ],
             [
              1,
              "#f0f921"
             ]
            ],
            "type": "histogram2d"
           }
          ],
          "histogram2dcontour": [
           {
            "colorbar": {
             "outlinewidth": 0,
             "ticks": ""
            },
            "colorscale": [
             [
              0,
              "#0d0887"
             ],
             [
              0.1111111111111111,
              "#46039f"
             ],
             [
              0.2222222222222222,
              "#7201a8"
             ],
             [
              0.3333333333333333,
              "#9c179e"
             ],
             [
              0.4444444444444444,
              "#bd3786"
             ],
             [
              0.5555555555555556,
              "#d8576b"
             ],
             [
              0.6666666666666666,
              "#ed7953"
             ],
             [
              0.7777777777777778,
              "#fb9f3a"
             ],
             [
              0.8888888888888888,
              "#fdca26"
             ],
             [
              1,
              "#f0f921"
             ]
            ],
            "type": "histogram2dcontour"
           }
          ],
          "mesh3d": [
           {
            "colorbar": {
             "outlinewidth": 0,
             "ticks": ""
            },
            "type": "mesh3d"
           }
          ],
          "parcoords": [
           {
            "line": {
             "colorbar": {
              "outlinewidth": 0,
              "ticks": ""
             }
            },
            "type": "parcoords"
           }
          ],
          "pie": [
           {
            "automargin": true,
            "type": "pie"
           }
          ],
          "scatter": [
           {
            "fillpattern": {
             "fillmode": "overlay",
             "size": 10,
             "solidity": 0.2
            },
            "type": "scatter"
           }
          ],
          "scatter3d": [
           {
            "line": {
             "colorbar": {
              "outlinewidth": 0,
              "ticks": ""
             }
            },
            "marker": {
             "colorbar": {
              "outlinewidth": 0,
              "ticks": ""
             }
            },
            "type": "scatter3d"
           }
          ],
          "scattercarpet": [
           {
            "marker": {
             "colorbar": {
              "outlinewidth": 0,
              "ticks": ""
             }
            },
            "type": "scattercarpet"
           }
          ],
          "scattergeo": [
           {
            "marker": {
             "colorbar": {
              "outlinewidth": 0,
              "ticks": ""
             }
            },
            "type": "scattergeo"
           }
          ],
          "scattergl": [
           {
            "marker": {
             "colorbar": {
              "outlinewidth": 0,
              "ticks": ""
             }
            },
            "type": "scattergl"
           }
          ],
          "scattermap": [
           {
            "marker": {
             "colorbar": {
              "outlinewidth": 0,
              "ticks": ""
             }
            },
            "type": "scattermap"
           }
          ],
          "scattermapbox": [
           {
            "marker": {
             "colorbar": {
              "outlinewidth": 0,
              "ticks": ""
             }
            },
            "type": "scattermapbox"
           }
          ],
          "scatterpolar": [
           {
            "marker": {
             "colorbar": {
              "outlinewidth": 0,
              "ticks": ""
             }
            },
            "type": "scatterpolar"
           }
          ],
          "scatterpolargl": [
           {
            "marker": {
             "colorbar": {
              "outlinewidth": 0,
              "ticks": ""
             }
            },
            "type": "scatterpolargl"
           }
          ],
          "scatterternary": [
           {
            "marker": {
             "colorbar": {
              "outlinewidth": 0,
              "ticks": ""
             }
            },
            "type": "scatterternary"
           }
          ],
          "surface": [
           {
            "colorbar": {
             "outlinewidth": 0,
             "ticks": ""
            },
            "colorscale": [
             [
              0,
              "#0d0887"
             ],
             [
              0.1111111111111111,
              "#46039f"
             ],
             [
              0.2222222222222222,
              "#7201a8"
             ],
             [
              0.3333333333333333,
              "#9c179e"
             ],
             [
              0.4444444444444444,
              "#bd3786"
             ],
             [
              0.5555555555555556,
              "#d8576b"
             ],
             [
              0.6666666666666666,
              "#ed7953"
             ],
             [
              0.7777777777777778,
              "#fb9f3a"
             ],
             [
              0.8888888888888888,
              "#fdca26"
             ],
             [
              1,
              "#f0f921"
             ]
            ],
            "type": "surface"
           }
          ],
          "table": [
           {
            "cells": {
             "fill": {
              "color": "#EBF0F8"
             },
             "line": {
              "color": "white"
             }
            },
            "header": {
             "fill": {
              "color": "#C8D4E3"
             },
             "line": {
              "color": "white"
             }
            },
            "type": "table"
           }
          ]
         },
         "layout": {
          "annotationdefaults": {
           "arrowcolor": "#2a3f5f",
           "arrowhead": 0,
           "arrowwidth": 1
          },
          "autotypenumbers": "strict",
          "coloraxis": {
           "colorbar": {
            "outlinewidth": 0,
            "ticks": ""
           }
          },
          "colorscale": {
           "diverging": [
            [
             0,
             "#8e0152"
            ],
            [
             0.1,
             "#c51b7d"
            ],
            [
             0.2,
             "#de77ae"
            ],
            [
             0.3,
             "#f1b6da"
            ],
            [
             0.4,
             "#fde0ef"
            ],
            [
             0.5,
             "#f7f7f7"
            ],
            [
             0.6,
             "#e6f5d0"
            ],
            [
             0.7,
             "#b8e186"
            ],
            [
             0.8,
             "#7fbc41"
            ],
            [
             0.9,
             "#4d9221"
            ],
            [
             1,
             "#276419"
            ]
           ],
           "sequential": [
            [
             0,
             "#0d0887"
            ],
            [
             0.1111111111111111,
             "#46039f"
            ],
            [
             0.2222222222222222,
             "#7201a8"
            ],
            [
             0.3333333333333333,
             "#9c179e"
            ],
            [
             0.4444444444444444,
             "#bd3786"
            ],
            [
             0.5555555555555556,
             "#d8576b"
            ],
            [
             0.6666666666666666,
             "#ed7953"
            ],
            [
             0.7777777777777778,
             "#fb9f3a"
            ],
            [
             0.8888888888888888,
             "#fdca26"
            ],
            [
             1,
             "#f0f921"
            ]
           ],
           "sequentialminus": [
            [
             0,
             "#0d0887"
            ],
            [
             0.1111111111111111,
             "#46039f"
            ],
            [
             0.2222222222222222,
             "#7201a8"
            ],
            [
             0.3333333333333333,
             "#9c179e"
            ],
            [
             0.4444444444444444,
             "#bd3786"
            ],
            [
             0.5555555555555556,
             "#d8576b"
            ],
            [
             0.6666666666666666,
             "#ed7953"
            ],
            [
             0.7777777777777778,
             "#fb9f3a"
            ],
            [
             0.8888888888888888,
             "#fdca26"
            ],
            [
             1,
             "#f0f921"
            ]
           ]
          },
          "colorway": [
           "#636efa",
           "#EF553B",
           "#00cc96",
           "#ab63fa",
           "#FFA15A",
           "#19d3f3",
           "#FF6692",
           "#B6E880",
           "#FF97FF",
           "#FECB52"
          ],
          "font": {
           "color": "#2a3f5f"
          },
          "geo": {
           "bgcolor": "white",
           "lakecolor": "white",
           "landcolor": "white",
           "showlakes": true,
           "showland": true,
           "subunitcolor": "#C8D4E3"
          },
          "hoverlabel": {
           "align": "left"
          },
          "hovermode": "closest",
          "mapbox": {
           "style": "light"
          },
          "paper_bgcolor": "white",
          "plot_bgcolor": "white",
          "polar": {
           "angularaxis": {
            "gridcolor": "#EBF0F8",
            "linecolor": "#EBF0F8",
            "ticks": ""
           },
           "bgcolor": "white",
           "radialaxis": {
            "gridcolor": "#EBF0F8",
            "linecolor": "#EBF0F8",
            "ticks": ""
           }
          },
          "scene": {
           "xaxis": {
            "backgroundcolor": "white",
            "gridcolor": "#DFE8F3",
            "gridwidth": 2,
            "linecolor": "#EBF0F8",
            "showbackground": true,
            "ticks": "",
            "zerolinecolor": "#EBF0F8"
           },
           "yaxis": {
            "backgroundcolor": "white",
            "gridcolor": "#DFE8F3",
            "gridwidth": 2,
            "linecolor": "#EBF0F8",
            "showbackground": true,
            "ticks": "",
            "zerolinecolor": "#EBF0F8"
           },
           "zaxis": {
            "backgroundcolor": "white",
            "gridcolor": "#DFE8F3",
            "gridwidth": 2,
            "linecolor": "#EBF0F8",
            "showbackground": true,
            "ticks": "",
            "zerolinecolor": "#EBF0F8"
           }
          },
          "shapedefaults": {
           "line": {
            "color": "#2a3f5f"
           }
          },
          "ternary": {
           "aaxis": {
            "gridcolor": "#DFE8F3",
            "linecolor": "#A2B1C6",
            "ticks": ""
           },
           "baxis": {
            "gridcolor": "#DFE8F3",
            "linecolor": "#A2B1C6",
            "ticks": ""
           },
           "bgcolor": "white",
           "caxis": {
            "gridcolor": "#DFE8F3",
            "linecolor": "#A2B1C6",
            "ticks": ""
           }
          },
          "title": {
           "x": 0.05
          },
          "xaxis": {
           "automargin": true,
           "gridcolor": "#EBF0F8",
           "linecolor": "#EBF0F8",
           "ticks": "",
           "title": {
            "standoff": 15
           },
           "zerolinecolor": "#EBF0F8",
           "zerolinewidth": 2
          },
          "yaxis": {
           "automargin": true,
           "gridcolor": "#EBF0F8",
           "linecolor": "#EBF0F8",
           "ticks": "",
           "title": {
            "standoff": 15
           },
           "zerolinecolor": "#EBF0F8",
           "zerolinewidth": 2
          }
         }
        },
        "title": {
         "text": "Electricity Generation by Renewable Source Over Time (2010–2022)"
        },
        "xaxis": {
         "anchor": "y",
         "domain": [
          0,
          1
         ],
         "title": {
          "text": "Date"
         }
        },
        "yaxis": {
         "anchor": "x",
         "domain": [
          0,
          1
         ],
         "title": {
          "text": "Electricity Generation (GWh)"
         }
        }
       }
      }
     },
     "metadata": {},
     "output_type": "display_data"
    }
   ],
   "source": [
    "# Electricity generation by renewable sources using plotly\n",
    "# list with all renewable sources\n",
    "renewable_products = [\n",
    "    'Wind', 'Solar', 'Hydro', 'Geothermal',\n",
    "    'Other renewables', 'Other renewables aggregated',\n",
    "    'Combustible renewables', 'Renewables'\n",
    "]\n",
    "\n",
    "# Filter for renewable products only\n",
    "df_renewable = df[df['product'].isin(renewable_products)]\n",
    "\n",
    "# Group by date and product, and sum the values\n",
    "renewable_generation = df_renewable.groupby(['date', 'product'])['value'].sum().reset_index()\n",
    "\n",
    "# Plot separate lines for each renewable product\n",
    "fig = px.line(\n",
    "    renewable_generation,\n",
    "    x='date',\n",
    "    y='value',\n",
    "    color='product',\n",
    "    labels={\n",
    "        'value': 'Electricity Generation (GWh)',\n",
    "        'date': 'Date',\n",
    "        'product': 'Renewable Source'\n",
    "    },\n",
    "    title='Electricity Generation by Renewable Source Over Time (2010–2022)'\n",
    ")\n",
    "\n",
    "fig.update_layout(template='plotly_white')\n",
    "fig.show()"
   ]
  },
  {
   "cell_type": "markdown",
   "id": "c01af59b",
   "metadata": {},
   "source": [
    "### Insights:\n",
    "* Total renewables (light blue) steadily increased, showing a strong upward trend in clean energy use.\n",
    "* Wind and Hydro (green and teal) are the two major contributors among individual sources.\n",
    "* Solar (red) has grown significantly since 2012, showing rapid expansion despite seasonal dips.\n",
    "* Combustible renewables and Geothermal have remained relatively flat and low.\n",
    "* Seasonality is visible in Hydro and Solar due to weather-dependent generation.\n",
    "* Overall, Europe’s renewable energy mix diversified, with most sources growing year by year.\n",
    "----"
   ]
  },
  {
   "cell_type": "markdown",
   "id": "5bb5ec34",
   "metadata": {},
   "source": [
    "## 6. Correlation matrix for numerical columns\n",
    "A correlation matrix for numerical values helps reveal relationships between key metrics in the dataset, such as total electricity generation, year-to-date values, previous year comparisons, and share percentages. This visualization highlights which variables move together, indicating possible dependencies or trends, and can guide further analysis on factors influencing electricity production across Europe."
   ]
  },
  {
   "cell_type": "code",
   "execution_count": null,
   "id": "e99dfe00",
   "metadata": {},
   "outputs": [
    {
     "data": {
      "image/png": "[encoded data removed]",
      "text/plain": [
       "<Figure size 800x600 with 2 Axes>"
      ]
     },
     "metadata": {},
     "output_type": "display_data"
    }
   ],
   "source": [
    "# Correlation matrix for numerical columns using seaborn\n",
    "corr = df[[ 'value', 'yeartodate', 'previousyeartodate', 'share']].corr()\n",
    "\n",
    "plt.figure(figsize=(8, 6))\n",
    "sns.heatmap(corr, annot=True, cmap='coolwarm', fmt='.2f')\n",
    "plt.title('Correlation Matrix')\n",
    "plt.show()"
   ]
  },
  {
   "cell_type": "markdown",
   "id": "32b919df",
   "metadata": {},
   "source": [
    "### Insights: \n",
    "* 'value' and 'yeartodate' have a very strong positive correlation (0.99), indicating they trend together over time.\n",
    "* 'previousyeartodate' also correlates strongly with both 'value' and 'yeartodate' (0.85+), showing consistency across years.\n",
    "* 'share' has a moderate positive correlation with the other variables, especially value (0.59), suggesting partial dependency.\n",
    "* The lowest correlation is between 'share' and 'previousyeartodate' (0.52), implying more independent variation.\n",
    "* Overall, the matrix shows strong internal consistency across time-based metrics with slightly weaker links to share.\n",
    "---"
   ]
  }
 ],
 "metadata": {
  "kernelspec": {
   "display_name": ".venv",
   "language": "python",
   "name": "python3"
  },
  "language_info": {
   "codemirror_mode": {
    "name": "ipython",
    "version": 3
   },
   "file_extension": ".py",
   "mimetype": "text/x-python",
   "name": "python",
   "nbconvert_exporter": "python",
   "pygments_lexer": "ipython3",
   "version": "3.12.8"
  }
 },
 "nbformat": 4,
 "nbformat_minor": 5
}
