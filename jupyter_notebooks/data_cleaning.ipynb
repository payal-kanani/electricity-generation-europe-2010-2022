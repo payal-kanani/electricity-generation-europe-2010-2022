{
 "cells": [
  {
   "cell_type": "markdown",
   "id": "954d6d95",
   "metadata": {},
   "source": [
    "# **Data Cleaning**"
   ]
  },
  {
   "cell_type": "markdown",
   "id": "51dbe8e2",
   "metadata": {},
   "source": [
    "## Objectives\n",
    "\n",
    "* Load and inspect the raw dataset of monthly electricity generation.\n",
    "* Filter the dataset to include only European countries based on a predefined list.\n",
    "* Drop unnecessary columns that are redundant or irrelevant to analysis and rename columns for better readability and consistency.\n",
    "* Convert year and month into a unified date column in datetime format.\n",
    "* Handle missing values by filing NaNs with 0.\n",
    "* Handle negative values.\n",
    "* check for outliers.\n",
    "* Save the cleaned dataset for downstream analysis.\n",
    "\n",
    "## Inputs\n",
    "\n",
    "- Raw datasets:\n",
    "    - data.csv\n",
    "    - european_countries_dataset.csv (Filtered from the data.csv to contain only selected European countries)\n",
    "\n",
    "## Outputs\n",
    "\n",
    "* Cleaned and preprocessed dataset saved as cleaned_european_countries_dataset.csv\n",
    "* Added date column in datetime format\n",
    "* Removed irrelevant columns\n",
    "* All missing and invalid negative values properly handled\n",
    "\n",
    "## Additional Comments\n",
    "\n",
    "* Negative values in Electricity trade rows were retained to preserve the meaning of exports in electricity flow.\n",
    "* Column month_name was removed in favor of using numeric month and a proper datetime date column.\n",
    "* The final dataset is now ready for exploratory data analysis (EDA) and modeling steps. \n",
    "* Any transformation or correction done has been logged and commented within the notebook for transparency.\n",
    "\n",
    "-----"
   ]
  },
  {
   "cell_type": "code",
   "execution_count": 1,
   "id": "97b71d5a",
   "metadata": {},
   "outputs": [],
   "source": [
    "# import necessary libraries\n",
    "import numpy as np\n",
    "import pandas as pd"
   ]
  },
  {
   "cell_type": "markdown",
   "id": "5f0c65ff",
   "metadata": {},
   "source": [
    "### **Section 1 : Data Loading and Initial Inspection**"
   ]
  },
  {
   "cell_type": "code",
   "execution_count": 2,
   "id": "256e5000",
   "metadata": {},
   "outputs": [
    {
     "data": {
      "text/html": [
       "<div>\n",
       "<style scoped>\n",
       "    .dataframe tbody tr th:only-of-type {\n",
       "        vertical-align: middle;\n",
       "    }\n",
       "\n",
       "    .dataframe tbody tr th {\n",
       "        vertical-align: top;\n",
       "    }\n",
       "\n",
       "    .dataframe thead th {\n",
       "        text-align: right;\n",
       "    }\n",
       "</style>\n",
       "<table border=\"1\" class=\"dataframe\">\n",
       "  <thead>\n",
       "    <tr style=\"text-align: right;\">\n",
       "      <th></th>\n",
       "      <th>COUNTRY</th>\n",
       "      <th>CODE_TIME</th>\n",
       "      <th>TIME</th>\n",
       "      <th>YEAR</th>\n",
       "      <th>MONTH</th>\n",
       "      <th>MONTH_NAME</th>\n",
       "      <th>PRODUCT</th>\n",
       "      <th>VALUE</th>\n",
       "      <th>DISPLAY_ORDER</th>\n",
       "      <th>yearToDate</th>\n",
       "      <th>previousYearToDate</th>\n",
       "      <th>share</th>\n",
       "    </tr>\n",
       "  </thead>\n",
       "  <tbody>\n",
       "    <tr>\n",
       "      <th>0</th>\n",
       "      <td>Australia</td>\n",
       "      <td>JAN2010</td>\n",
       "      <td>January 2010</td>\n",
       "      <td>2010</td>\n",
       "      <td>1</td>\n",
       "      <td>January</td>\n",
       "      <td>Hydro</td>\n",
       "      <td>990.728</td>\n",
       "      <td>1</td>\n",
       "      <td>16471.891</td>\n",
       "      <td>NaN</td>\n",
       "      <td>0.047771</td>\n",
       "    </tr>\n",
       "    <tr>\n",
       "      <th>1</th>\n",
       "      <td>Australia</td>\n",
       "      <td>JAN2010</td>\n",
       "      <td>January 2010</td>\n",
       "      <td>2010</td>\n",
       "      <td>1</td>\n",
       "      <td>January</td>\n",
       "      <td>Wind</td>\n",
       "      <td>409.469</td>\n",
       "      <td>2</td>\n",
       "      <td>4940.909</td>\n",
       "      <td>NaN</td>\n",
       "      <td>0.019744</td>\n",
       "    </tr>\n",
       "    <tr>\n",
       "      <th>2</th>\n",
       "      <td>Australia</td>\n",
       "      <td>JAN2010</td>\n",
       "      <td>January 2010</td>\n",
       "      <td>2010</td>\n",
       "      <td>1</td>\n",
       "      <td>January</td>\n",
       "      <td>Solar</td>\n",
       "      <td>49.216</td>\n",
       "      <td>3</td>\n",
       "      <td>908.238</td>\n",
       "      <td>NaN</td>\n",
       "      <td>0.002373</td>\n",
       "    </tr>\n",
       "    <tr>\n",
       "      <th>3</th>\n",
       "      <td>Australia</td>\n",
       "      <td>JAN2010</td>\n",
       "      <td>January 2010</td>\n",
       "      <td>2010</td>\n",
       "      <td>1</td>\n",
       "      <td>January</td>\n",
       "      <td>Geothermal</td>\n",
       "      <td>0.083</td>\n",
       "      <td>4</td>\n",
       "      <td>0.996</td>\n",
       "      <td>NaN</td>\n",
       "      <td>0.000004</td>\n",
       "    </tr>\n",
       "    <tr>\n",
       "      <th>4</th>\n",
       "      <td>Australia</td>\n",
       "      <td>JAN2010</td>\n",
       "      <td>January 2010</td>\n",
       "      <td>2010</td>\n",
       "      <td>1</td>\n",
       "      <td>January</td>\n",
       "      <td>Total combustible fuels</td>\n",
       "      <td>19289.730</td>\n",
       "      <td>7</td>\n",
       "      <td>214302.969</td>\n",
       "      <td>NaN</td>\n",
       "      <td>0.930108</td>\n",
       "    </tr>\n",
       "  </tbody>\n",
       "</table>\n",
       "</div>"
      ],
      "text/plain": [
       "     COUNTRY CODE_TIME          TIME  YEAR  MONTH MONTH_NAME  \\\n",
       "0  Australia   JAN2010  January 2010  2010      1    January   \n",
       "1  Australia   JAN2010  January 2010  2010      1    January   \n",
       "2  Australia   JAN2010  January 2010  2010      1    January   \n",
       "3  Australia   JAN2010  January 2010  2010      1    January   \n",
       "4  Australia   JAN2010  January 2010  2010      1    January   \n",
       "\n",
       "                   PRODUCT      VALUE  DISPLAY_ORDER  yearToDate  \\\n",
       "0                    Hydro    990.728              1   16471.891   \n",
       "1                     Wind    409.469              2    4940.909   \n",
       "2                    Solar     49.216              3     908.238   \n",
       "3               Geothermal      0.083              4       0.996   \n",
       "4  Total combustible fuels  19289.730              7  214302.969   \n",
       "\n",
       "   previousYearToDate     share  \n",
       "0                 NaN  0.047771  \n",
       "1                 NaN  0.019744  \n",
       "2                 NaN  0.002373  \n",
       "3                 NaN  0.000004  \n",
       "4                 NaN  0.930108  "
      ]
     },
     "execution_count": 2,
     "metadata": {},
     "output_type": "execute_result"
    }
   ],
   "source": [
    "# read the dataset\n",
    "dataset = pd.read_csv('../data/data.csv')\n",
    "dataset.head()"
   ]
  },
  {
   "cell_type": "markdown",
   "id": "84e5fdcf",
   "metadata": {},
   "source": [
    "#### Dataset Column Descriptions\n",
    "Below is a description of each column in the electricity production dataset:\n",
    "\n",
    "| **Column Name**         | **Description**                                                                 |\n",
    "|-------------------------|---------------------------------------------------------------------------------|\n",
    "| Country                 | Name of the country                                                             |\n",
    "| Code_time               | A code that represents the month and year (e.g., JAN2010 for January 2010)     |\n",
    "| Time                    | The month and year in a human-readable format (e.g., January 2010)             |\n",
    "| Year                    | The year of the data point                                                      |\n",
    "| Month                   | The month of the data point as a number (1-12)                                  |\n",
    "| Month_name             | The month of the data point as a string (e.g., January)                         |\n",
    "| Product                | The type of energy product (e.g., Hydro, Wind, Solar)                           |\n",
    "| Value                  | Electricity generated in gigawatt-hours (GWh)                                   |\n",
    "| Display_order          | Order in which the products should be displayed                                 |\n",
    "| Yeartodate             | Electricity generated YTD (Year-To-Date) for the current year in GWh           |\n",
    "| Previousyeartodate     | Electricity generated YTD for the previous year in GWh                          |\n",
    "| share                  | Product’s share of total electricity generation in decimal format (e.g., 0.25)  |"
   ]
  },
  {
   "cell_type": "code",
   "execution_count": 3,
   "id": "b410d549",
   "metadata": {},
   "outputs": [
    {
     "data": {
      "text/plain": [
       "(181915, 12)"
      ]
     },
     "execution_count": 3,
     "metadata": {},
     "output_type": "execute_result"
    }
   ],
   "source": [
    "# Display the shape of the dataset\n",
    "dataset.shape"
   ]
  },
  {
   "cell_type": "markdown",
   "id": "4635f521",
   "metadata": {},
   "source": [
    "This section covers the initial steps of the data cleaning workflow:\n",
    "\n",
    "- **Loading the raw dataset:** The monthly electricity generation data is loaded from `data.csv` using pandas.\n",
    "- **Inspecting the dataset:** The shape and a preview of the dataset are displayed to understand its structure and contents.\n",
    "\n",
    "----"
   ]
  },
  {
   "cell_type": "markdown",
   "id": "70a80b5e",
   "metadata": {},
   "source": [
    "### **Section 2 : Filtering for European countries**"
   ]
  },
  {
   "cell_type": "code",
   "execution_count": 4,
   "id": "0474a400",
   "metadata": {},
   "outputs": [
    {
     "data": {
      "text/html": [
       "<div>\n",
       "<style scoped>\n",
       "    .dataframe tbody tr th:only-of-type {\n",
       "        vertical-align: middle;\n",
       "    }\n",
       "\n",
       "    .dataframe tbody tr th {\n",
       "        vertical-align: top;\n",
       "    }\n",
       "\n",
       "    .dataframe thead th {\n",
       "        text-align: right;\n",
       "    }\n",
       "</style>\n",
       "<table border=\"1\" class=\"dataframe\">\n",
       "  <thead>\n",
       "    <tr style=\"text-align: right;\">\n",
       "      <th></th>\n",
       "      <th>COUNTRY</th>\n",
       "      <th>CODE_TIME</th>\n",
       "      <th>TIME</th>\n",
       "      <th>YEAR</th>\n",
       "      <th>MONTH</th>\n",
       "      <th>MONTH_NAME</th>\n",
       "      <th>PRODUCT</th>\n",
       "      <th>VALUE</th>\n",
       "      <th>DISPLAY_ORDER</th>\n",
       "      <th>yearToDate</th>\n",
       "      <th>previousYearToDate</th>\n",
       "      <th>share</th>\n",
       "    </tr>\n",
       "  </thead>\n",
       "  <tbody>\n",
       "    <tr>\n",
       "      <th>20</th>\n",
       "      <td>Austria</td>\n",
       "      <td>JAN2010</td>\n",
       "      <td>January 2010</td>\n",
       "      <td>2010</td>\n",
       "      <td>1</td>\n",
       "      <td>January</td>\n",
       "      <td>Hydro</td>\n",
       "      <td>2579.264</td>\n",
       "      <td>1</td>\n",
       "      <td>39502.566</td>\n",
       "      <td>NaN</td>\n",
       "      <td>0.437055</td>\n",
       "    </tr>\n",
       "    <tr>\n",
       "      <th>21</th>\n",
       "      <td>Austria</td>\n",
       "      <td>JAN2010</td>\n",
       "      <td>January 2010</td>\n",
       "      <td>2010</td>\n",
       "      <td>1</td>\n",
       "      <td>January</td>\n",
       "      <td>Wind</td>\n",
       "      <td>200.966</td>\n",
       "      <td>2</td>\n",
       "      <td>1961.814</td>\n",
       "      <td>NaN</td>\n",
       "      <td>0.034054</td>\n",
       "    </tr>\n",
       "    <tr>\n",
       "      <th>22</th>\n",
       "      <td>Austria</td>\n",
       "      <td>JAN2010</td>\n",
       "      <td>January 2010</td>\n",
       "      <td>2010</td>\n",
       "      <td>1</td>\n",
       "      <td>January</td>\n",
       "      <td>Solar</td>\n",
       "      <td>2.864</td>\n",
       "      <td>3</td>\n",
       "      <td>84.421</td>\n",
       "      <td>NaN</td>\n",
       "      <td>0.000485</td>\n",
       "    </tr>\n",
       "    <tr>\n",
       "      <th>23</th>\n",
       "      <td>Austria</td>\n",
       "      <td>JAN2010</td>\n",
       "      <td>January 2010</td>\n",
       "      <td>2010</td>\n",
       "      <td>1</td>\n",
       "      <td>January</td>\n",
       "      <td>Geothermal</td>\n",
       "      <td>0.111</td>\n",
       "      <td>4</td>\n",
       "      <td>1.332</td>\n",
       "      <td>NaN</td>\n",
       "      <td>0.000019</td>\n",
       "    </tr>\n",
       "    <tr>\n",
       "      <th>24</th>\n",
       "      <td>Austria</td>\n",
       "      <td>JAN2010</td>\n",
       "      <td>January 2010</td>\n",
       "      <td>2010</td>\n",
       "      <td>1</td>\n",
       "      <td>January</td>\n",
       "      <td>Total combustible fuels</td>\n",
       "      <td>3117.160</td>\n",
       "      <td>7</td>\n",
       "      <td>26042.221</td>\n",
       "      <td>NaN</td>\n",
       "      <td>0.528201</td>\n",
       "    </tr>\n",
       "  </tbody>\n",
       "</table>\n",
       "</div>"
      ],
      "text/plain": [
       "    COUNTRY CODE_TIME          TIME  YEAR  MONTH MONTH_NAME  \\\n",
       "20  Austria   JAN2010  January 2010  2010      1    January   \n",
       "21  Austria   JAN2010  January 2010  2010      1    January   \n",
       "22  Austria   JAN2010  January 2010  2010      1    January   \n",
       "23  Austria   JAN2010  January 2010  2010      1    January   \n",
       "24  Austria   JAN2010  January 2010  2010      1    January   \n",
       "\n",
       "                    PRODUCT     VALUE  DISPLAY_ORDER  yearToDate  \\\n",
       "20                    Hydro  2579.264              1   39502.566   \n",
       "21                     Wind   200.966              2    1961.814   \n",
       "22                    Solar     2.864              3      84.421   \n",
       "23               Geothermal     0.111              4       1.332   \n",
       "24  Total combustible fuels  3117.160              7   26042.221   \n",
       "\n",
       "    previousYearToDate     share  \n",
       "20                 NaN  0.437055  \n",
       "21                 NaN  0.034054  \n",
       "22                 NaN  0.000485  \n",
       "23                 NaN  0.000019  \n",
       "24                 NaN  0.528201  "
      ]
     },
     "execution_count": 4,
     "metadata": {},
     "output_type": "execute_result"
    }
   ],
   "source": [
    "# Define a list of European countries\n",
    "european_countries = [\n",
    "    \"Austria\", \"Belgium\", \"Bulgaria\", \"Croatia\", \"Cyprus\", \"Czech Republic\", \"Denmark\",\n",
    "    \"Estonia\", \"Finland\", \"France\", \"Germany\", \"Greece\", \"Hungary\", \"Iceland\", \"Ireland\",\n",
    "    \"Italy\", \"Latvia\", \"Lithuania\", \"Luxembourg\", \"Malta\", \"Netherlands\", \"North Macedonia\",\n",
    "    \"Norway\", \"Poland\", \"Portugal\", \"Republic of Turkiye\", \"Romania\", \"Serbia\",\n",
    "    \"Slovak Republic\", \"Slovenia\", \"Spain\", \"Sweden\", \"Switzerland\", \"United Kingdom\"\n",
    "]\n",
    "\n",
    "# Filter only rows with European countries\n",
    "df_europe = dataset[dataset['COUNTRY'].isin(european_countries)]\n",
    "\n",
    "# Save the filtered data to a new CSV (optional)\n",
    "df_europe.to_csv(\"../data/european_countries_dataset.csv\", index=False)\n",
    "\n",
    "# Preview the result\n",
    "df_europe.head()"
   ]
  },
  {
   "cell_type": "code",
   "execution_count": 5,
   "id": "7622388a",
   "metadata": {},
   "outputs": [
    {
     "data": {
      "text/plain": [
       "(120353, 12)"
      ]
     },
     "execution_count": 5,
     "metadata": {},
     "output_type": "execute_result"
    }
   ],
   "source": [
    "# Display the shape of the filtered dataset\n",
    "df_europe.shape"
   ]
  },
  {
   "cell_type": "markdown",
   "id": "9ea4d991",
   "metadata": {},
   "source": [
    " Only rows corresponding to a predefined list of European countries are retained, resulting in a new DataFrame 'df_europe'.\n",
    "- **Saving filtered data:** The filtered dataset is saved as 'european_countries_dataset.csv' for further processing.\n",
    "- **Initial checks:** The shape of the filtered dataset is displayed to confirm the filtering step.\n",
    "- These steps ensure that cleaning and analysis are performed only on relevant data for European countries.\n",
    "\n",
    "----"
   ]
  },
  {
   "cell_type": "markdown",
   "id": "29a0ee0b",
   "metadata": {},
   "source": [
    "### **Section 3 : Data Cleaning and Date Preparation**"
   ]
  },
  {
   "cell_type": "markdown",
   "id": "d02b1019",
   "metadata": {},
   "source": [
    "#### **3.1 Column renaming:**\n",
    "A deep copy of the DataFrame is made to preserve the original data. All column names are normalized to lowercase, and the 'country' column is renamed to 'country_name'  for clarity. The updated DataFrame is previewed to verify changes."
   ]
  },
  {
   "cell_type": "code",
   "execution_count": 8,
   "id": "9ebf28dc",
   "metadata": {},
   "outputs": [
    {
     "data": {
      "text/html": [
       "<div>\n",
       "<style scoped>\n",
       "    .dataframe tbody tr th:only-of-type {\n",
       "        vertical-align: middle;\n",
       "    }\n",
       "\n",
       "    .dataframe tbody tr th {\n",
       "        vertical-align: top;\n",
       "    }\n",
       "\n",
       "    .dataframe thead th {\n",
       "        text-align: right;\n",
       "    }\n",
       "</style>\n",
       "<table border=\"1\" class=\"dataframe\">\n",
       "  <thead>\n",
       "    <tr style=\"text-align: right;\">\n",
       "      <th></th>\n",
       "      <th>country_name</th>\n",
       "      <th>code_time</th>\n",
       "      <th>time</th>\n",
       "      <th>year</th>\n",
       "      <th>month</th>\n",
       "      <th>month_name</th>\n",
       "      <th>product</th>\n",
       "      <th>value</th>\n",
       "      <th>display_order</th>\n",
       "      <th>yeartodate</th>\n",
       "      <th>previousyeartodate</th>\n",
       "      <th>share</th>\n",
       "    </tr>\n",
       "  </thead>\n",
       "  <tbody>\n",
       "    <tr>\n",
       "      <th>20</th>\n",
       "      <td>Austria</td>\n",
       "      <td>JAN2010</td>\n",
       "      <td>January 2010</td>\n",
       "      <td>2010</td>\n",
       "      <td>1</td>\n",
       "      <td>January</td>\n",
       "      <td>Hydro</td>\n",
       "      <td>2579.264</td>\n",
       "      <td>1</td>\n",
       "      <td>39502.566</td>\n",
       "      <td>NaN</td>\n",
       "      <td>0.437055</td>\n",
       "    </tr>\n",
       "    <tr>\n",
       "      <th>21</th>\n",
       "      <td>Austria</td>\n",
       "      <td>JAN2010</td>\n",
       "      <td>January 2010</td>\n",
       "      <td>2010</td>\n",
       "      <td>1</td>\n",
       "      <td>January</td>\n",
       "      <td>Wind</td>\n",
       "      <td>200.966</td>\n",
       "      <td>2</td>\n",
       "      <td>1961.814</td>\n",
       "      <td>NaN</td>\n",
       "      <td>0.034054</td>\n",
       "    </tr>\n",
       "    <tr>\n",
       "      <th>22</th>\n",
       "      <td>Austria</td>\n",
       "      <td>JAN2010</td>\n",
       "      <td>January 2010</td>\n",
       "      <td>2010</td>\n",
       "      <td>1</td>\n",
       "      <td>January</td>\n",
       "      <td>Solar</td>\n",
       "      <td>2.864</td>\n",
       "      <td>3</td>\n",
       "      <td>84.421</td>\n",
       "      <td>NaN</td>\n",
       "      <td>0.000485</td>\n",
       "    </tr>\n",
       "    <tr>\n",
       "      <th>23</th>\n",
       "      <td>Austria</td>\n",
       "      <td>JAN2010</td>\n",
       "      <td>January 2010</td>\n",
       "      <td>2010</td>\n",
       "      <td>1</td>\n",
       "      <td>January</td>\n",
       "      <td>Geothermal</td>\n",
       "      <td>0.111</td>\n",
       "      <td>4</td>\n",
       "      <td>1.332</td>\n",
       "      <td>NaN</td>\n",
       "      <td>0.000019</td>\n",
       "    </tr>\n",
       "    <tr>\n",
       "      <th>24</th>\n",
       "      <td>Austria</td>\n",
       "      <td>JAN2010</td>\n",
       "      <td>January 2010</td>\n",
       "      <td>2010</td>\n",
       "      <td>1</td>\n",
       "      <td>January</td>\n",
       "      <td>Total combustible fuels</td>\n",
       "      <td>3117.160</td>\n",
       "      <td>7</td>\n",
       "      <td>26042.221</td>\n",
       "      <td>NaN</td>\n",
       "      <td>0.528201</td>\n",
       "    </tr>\n",
       "  </tbody>\n",
       "</table>\n",
       "</div>"
      ],
      "text/plain": [
       "   country_name code_time          time  year  month month_name  \\\n",
       "20      Austria   JAN2010  January 2010  2010      1    January   \n",
       "21      Austria   JAN2010  January 2010  2010      1    January   \n",
       "22      Austria   JAN2010  January 2010  2010      1    January   \n",
       "23      Austria   JAN2010  January 2010  2010      1    January   \n",
       "24      Austria   JAN2010  January 2010  2010      1    January   \n",
       "\n",
       "                    product     value  display_order  yeartodate  \\\n",
       "20                    Hydro  2579.264              1   39502.566   \n",
       "21                     Wind   200.966              2    1961.814   \n",
       "22                    Solar     2.864              3      84.421   \n",
       "23               Geothermal     0.111              4       1.332   \n",
       "24  Total combustible fuels  3117.160              7   26042.221   \n",
       "\n",
       "    previousyeartodate     share  \n",
       "20                 NaN  0.437055  \n",
       "21                 NaN  0.034054  \n",
       "22                 NaN  0.000485  \n",
       "23                 NaN  0.000019  \n",
       "24                 NaN  0.528201  "
      ]
     },
     "execution_count": 8,
     "metadata": {},
     "output_type": "execute_result"
    }
   ],
   "source": [
    "# Ensure df_europe is a deep copy\n",
    "df_europe = df_europe.copy()\n",
    "\n",
    "# Convert column names to lowercase\n",
    "df_europe.columns = df_europe.columns.str.lower()\n",
    "\n",
    "# Rename 'country' to 'country_name'\n",
    "df_europe = df_europe.rename(columns={'country': 'country_name'})\n",
    "\n",
    "df_europe.head()"
   ]
  },
  {
   "cell_type": "markdown",
   "id": "bb026426",
   "metadata": {},
   "source": [
    "#### **3.2 Dropping irrelevant columns:**\n",
    "Another deep copy is created before removing unnecessary columns('time','code_time', 'month_name', 'display_order'). The DataFrame is previewed again to confirm the operation."
   ]
  },
  {
   "cell_type": "code",
   "execution_count": 9,
   "id": "2bb0dc8d",
   "metadata": {},
   "outputs": [
    {
     "data": {
      "text/html": [
       "<div>\n",
       "<style scoped>\n",
       "    .dataframe tbody tr th:only-of-type {\n",
       "        vertical-align: middle;\n",
       "    }\n",
       "\n",
       "    .dataframe tbody tr th {\n",
       "        vertical-align: top;\n",
       "    }\n",
       "\n",
       "    .dataframe thead th {\n",
       "        text-align: right;\n",
       "    }\n",
       "</style>\n",
       "<table border=\"1\" class=\"dataframe\">\n",
       "  <thead>\n",
       "    <tr style=\"text-align: right;\">\n",
       "      <th></th>\n",
       "      <th>country_name</th>\n",
       "      <th>year</th>\n",
       "      <th>month</th>\n",
       "      <th>product</th>\n",
       "      <th>value</th>\n",
       "      <th>yeartodate</th>\n",
       "      <th>previousyeartodate</th>\n",
       "      <th>share</th>\n",
       "    </tr>\n",
       "  </thead>\n",
       "  <tbody>\n",
       "    <tr>\n",
       "      <th>20</th>\n",
       "      <td>Austria</td>\n",
       "      <td>2010</td>\n",
       "      <td>1</td>\n",
       "      <td>Hydro</td>\n",
       "      <td>2579.264</td>\n",
       "      <td>39502.566</td>\n",
       "      <td>NaN</td>\n",
       "      <td>0.437055</td>\n",
       "    </tr>\n",
       "    <tr>\n",
       "      <th>21</th>\n",
       "      <td>Austria</td>\n",
       "      <td>2010</td>\n",
       "      <td>1</td>\n",
       "      <td>Wind</td>\n",
       "      <td>200.966</td>\n",
       "      <td>1961.814</td>\n",
       "      <td>NaN</td>\n",
       "      <td>0.034054</td>\n",
       "    </tr>\n",
       "    <tr>\n",
       "      <th>22</th>\n",
       "      <td>Austria</td>\n",
       "      <td>2010</td>\n",
       "      <td>1</td>\n",
       "      <td>Solar</td>\n",
       "      <td>2.864</td>\n",
       "      <td>84.421</td>\n",
       "      <td>NaN</td>\n",
       "      <td>0.000485</td>\n",
       "    </tr>\n",
       "    <tr>\n",
       "      <th>23</th>\n",
       "      <td>Austria</td>\n",
       "      <td>2010</td>\n",
       "      <td>1</td>\n",
       "      <td>Geothermal</td>\n",
       "      <td>0.111</td>\n",
       "      <td>1.332</td>\n",
       "      <td>NaN</td>\n",
       "      <td>0.000019</td>\n",
       "    </tr>\n",
       "    <tr>\n",
       "      <th>24</th>\n",
       "      <td>Austria</td>\n",
       "      <td>2010</td>\n",
       "      <td>1</td>\n",
       "      <td>Total combustible fuels</td>\n",
       "      <td>3117.160</td>\n",
       "      <td>26042.221</td>\n",
       "      <td>NaN</td>\n",
       "      <td>0.528201</td>\n",
       "    </tr>\n",
       "  </tbody>\n",
       "</table>\n",
       "</div>"
      ],
      "text/plain": [
       "   country_name  year  month                  product     value  yeartodate  \\\n",
       "20      Austria  2010      1                    Hydro  2579.264   39502.566   \n",
       "21      Austria  2010      1                     Wind   200.966    1961.814   \n",
       "22      Austria  2010      1                    Solar     2.864      84.421   \n",
       "23      Austria  2010      1               Geothermal     0.111       1.332   \n",
       "24      Austria  2010      1  Total combustible fuels  3117.160   26042.221   \n",
       "\n",
       "    previousyeartodate     share  \n",
       "20                 NaN  0.437055  \n",
       "21                 NaN  0.034054  \n",
       "22                 NaN  0.000485  \n",
       "23                 NaN  0.000019  \n",
       "24                 NaN  0.528201  "
      ]
     },
     "execution_count": 9,
     "metadata": {},
     "output_type": "execute_result"
    }
   ],
   "source": [
    "# Ensure df_europe is a deep copy\n",
    "df_europe = df_europe.copy()\n",
    "\n",
    "# Drop unnecessary columns (without inplace)\n",
    "columns_to_drop = ['time', 'code_time', 'month_name', 'display_order']\n",
    "df_europe = df_europe.drop(columns=columns_to_drop)\n",
    "\n",
    "df_europe.head()"
   ]
  },
  {
   "cell_type": "code",
   "execution_count": null,
   "id": "7a8874fd",
   "metadata": {},
   "outputs": [
    {
     "data": {
      "text/plain": [
       "(120353, 8)"
      ]
     },
     "execution_count": 10,
     "metadata": {},
     "output_type": "execute_result"
    }
   ],
   "source": [
    "df_europe.shape"
   ]
  },
  {
   "cell_type": "markdown",
   "id": "8220f531",
   "metadata": {},
   "source": [
    "#### **3.3 Date column creation:**\n",
    "- The 'year' and 'month' columns are combined to create a unified 'date' column in datetime format, facilitating time-based analysis.\n",
    "- Orders the DataFrame by the new `date` column to ensure chronological order for further analysis and visualization."
   ]
  },
  {
   "cell_type": "code",
   "execution_count": 11,
   "id": "687e0113",
   "metadata": {},
   "outputs": [],
   "source": [
    "# Create a 'date' column from 'year' and 'month' columns\n",
    "df_europe['date'] = pd.to_datetime(df_europe[['year', 'month']].assign(day=1))"
   ]
  },
  {
   "cell_type": "code",
   "execution_count": 13,
   "id": "692f2ca9",
   "metadata": {},
   "outputs": [
    {
     "data": {
      "text/html": [
       "<div>\n",
       "<style scoped>\n",
       "    .dataframe tbody tr th:only-of-type {\n",
       "        vertical-align: middle;\n",
       "    }\n",
       "\n",
       "    .dataframe tbody tr th {\n",
       "        vertical-align: top;\n",
       "    }\n",
       "\n",
       "    .dataframe thead th {\n",
       "        text-align: right;\n",
       "    }\n",
       "</style>\n",
       "<table border=\"1\" class=\"dataframe\">\n",
       "  <thead>\n",
       "    <tr style=\"text-align: right;\">\n",
       "      <th></th>\n",
       "      <th>country_name</th>\n",
       "      <th>year</th>\n",
       "      <th>month</th>\n",
       "      <th>product</th>\n",
       "      <th>value</th>\n",
       "      <th>yeartodate</th>\n",
       "      <th>previousyeartodate</th>\n",
       "      <th>share</th>\n",
       "      <th>date</th>\n",
       "    </tr>\n",
       "  </thead>\n",
       "  <tbody>\n",
       "    <tr>\n",
       "      <th>20</th>\n",
       "      <td>Austria</td>\n",
       "      <td>2010</td>\n",
       "      <td>1</td>\n",
       "      <td>Hydro</td>\n",
       "      <td>2579.264</td>\n",
       "      <td>39502.566</td>\n",
       "      <td>NaN</td>\n",
       "      <td>0.437055</td>\n",
       "      <td>2010-01-01</td>\n",
       "    </tr>\n",
       "    <tr>\n",
       "      <th>22</th>\n",
       "      <td>Austria</td>\n",
       "      <td>2010</td>\n",
       "      <td>1</td>\n",
       "      <td>Solar</td>\n",
       "      <td>2.864</td>\n",
       "      <td>84.421</td>\n",
       "      <td>NaN</td>\n",
       "      <td>0.000485</td>\n",
       "      <td>2010-01-01</td>\n",
       "    </tr>\n",
       "    <tr>\n",
       "      <th>23</th>\n",
       "      <td>Austria</td>\n",
       "      <td>2010</td>\n",
       "      <td>1</td>\n",
       "      <td>Geothermal</td>\n",
       "      <td>0.111</td>\n",
       "      <td>1.332</td>\n",
       "      <td>NaN</td>\n",
       "      <td>0.000019</td>\n",
       "      <td>2010-01-01</td>\n",
       "    </tr>\n",
       "    <tr>\n",
       "      <th>24</th>\n",
       "      <td>Austria</td>\n",
       "      <td>2010</td>\n",
       "      <td>1</td>\n",
       "      <td>Total combustible fuels</td>\n",
       "      <td>3117.160</td>\n",
       "      <td>26042.221</td>\n",
       "      <td>NaN</td>\n",
       "      <td>0.528201</td>\n",
       "      <td>2010-01-01</td>\n",
       "    </tr>\n",
       "    <tr>\n",
       "      <th>25</th>\n",
       "      <td>Austria</td>\n",
       "      <td>2010</td>\n",
       "      <td>1</td>\n",
       "      <td>Coal</td>\n",
       "      <td>693.730</td>\n",
       "      <td>6371.891</td>\n",
       "      <td>NaN</td>\n",
       "      <td>0.117552</td>\n",
       "      <td>2010-01-01</td>\n",
       "    </tr>\n",
       "  </tbody>\n",
       "</table>\n",
       "</div>"
      ],
      "text/plain": [
       "   country_name  year  month                  product     value  yeartodate  \\\n",
       "20      Austria  2010      1                    Hydro  2579.264   39502.566   \n",
       "22      Austria  2010      1                    Solar     2.864      84.421   \n",
       "23      Austria  2010      1               Geothermal     0.111       1.332   \n",
       "24      Austria  2010      1  Total combustible fuels  3117.160   26042.221   \n",
       "25      Austria  2010      1                     Coal   693.730    6371.891   \n",
       "\n",
       "    previousyeartodate     share       date  \n",
       "20                 NaN  0.437055 2010-01-01  \n",
       "22                 NaN  0.000485 2010-01-01  \n",
       "23                 NaN  0.000019 2010-01-01  \n",
       "24                 NaN  0.528201 2010-01-01  \n",
       "25                 NaN  0.117552 2010-01-01  "
      ]
     },
     "execution_count": 13,
     "metadata": {},
     "output_type": "execute_result"
    }
   ],
   "source": [
    "df_europe = df_europe.sort_values(by='date')\n",
    "df_europe.head()"
   ]
  },
  {
   "cell_type": "markdown",
   "id": "4c8920a7",
   "metadata": {},
   "source": [
    "----"
   ]
  },
  {
   "cell_type": "markdown",
   "id": "1c9fa37e",
   "metadata": {},
   "source": [
    "### **Section 4 : Missing Value Inspection**\n",
    "* After inspecting for missing values, it was found that the 'previousyeartodate' column contained 11,303 NaN values. These missing entries were replaced with 0 to ensure consistency and facilitate downstream analysis."
   ]
  },
  {
   "cell_type": "code",
   "execution_count": 14,
   "id": "9d82d8c2",
   "metadata": {},
   "outputs": [
    {
     "data": {
      "text/plain": [
       "country_name              0\n",
       "year                      0\n",
       "month                     0\n",
       "product                   0\n",
       "value                     0\n",
       "yeartodate                0\n",
       "previousyeartodate    11303\n",
       "share                     0\n",
       "date                      0\n",
       "dtype: int64"
      ]
     },
     "execution_count": 14,
     "metadata": {},
     "output_type": "execute_result"
    }
   ],
   "source": [
    "# check for missing values in the DataFrame\n",
    "df_europe.isnull().sum()"
   ]
  },
  {
   "cell_type": "code",
   "execution_count": 15,
   "id": "50531694",
   "metadata": {},
   "outputs": [
    {
     "data": {
      "text/plain": [
       "country_name          0\n",
       "year                  0\n",
       "month                 0\n",
       "product               0\n",
       "value                 0\n",
       "yeartodate            0\n",
       "previousyeartodate    0\n",
       "share                 0\n",
       "date                  0\n",
       "dtype: int64"
      ]
     },
     "execution_count": 15,
     "metadata": {},
     "output_type": "execute_result"
    }
   ],
   "source": [
    "# fill 0 for missing values in 'previousyeartodate' column\n",
    "df_europe['previousyeartodate'] = df_europe['previousyeartodate'].fillna(0)\n",
    "df_europe.isnull().sum()"
   ]
  },
  {
   "cell_type": "markdown",
   "id": "519f19d8",
   "metadata": {},
   "source": [
    "----"
   ]
  },
  {
   "cell_type": "markdown",
   "id": "24b04d95",
   "metadata": {},
   "source": [
    "### **Section 5: Data Types Inspection**\n",
    "* Displays the data types of all columns to ensure compatibility for analysis and modeling."
   ]
  },
  {
   "cell_type": "code",
   "execution_count": 16,
   "id": "9c66e6d3",
   "metadata": {},
   "outputs": [
    {
     "data": {
      "text/plain": [
       "country_name                  object\n",
       "year                           int64\n",
       "month                          int64\n",
       "product                       object\n",
       "value                        float64\n",
       "yeartodate                   float64\n",
       "previousyeartodate           float64\n",
       "share                        float64\n",
       "date                  datetime64[ns]\n",
       "dtype: object"
      ]
     },
     "execution_count": 16,
     "metadata": {},
     "output_type": "execute_result"
    }
   ],
   "source": [
    "# Display the data types of the columns in the DataFrame \n",
    "df_europe.dtypes"
   ]
  },
  {
   "cell_type": "markdown",
   "id": "0c043e41",
   "metadata": {},
   "source": [
    "----\n",
    "### **Section 6 : Duplicate Row Check**\n"
   ]
  },
  {
   "cell_type": "code",
   "execution_count": 17,
   "id": "99cf7bd4",
   "metadata": {},
   "outputs": [
    {
     "data": {
      "text/plain": [
       "np.int64(0)"
      ]
     },
     "execution_count": 17,
     "metadata": {},
     "output_type": "execute_result"
    }
   ],
   "source": [
    "# Check for duplicate rows in the DataFrame\n",
    "df_europe.duplicated().sum()"
   ]
  },
  {
   "cell_type": "markdown",
   "id": "75b72b4e",
   "metadata": {},
   "source": [
    "----\n",
    "### **Section 7 : Unique Product Values**\n",
    "* Lists unique values in the 'products' column to understand the range of electricity generation sources present in the dataset."
   ]
  },
  {
   "cell_type": "code",
   "execution_count": 18,
   "id": "73807cd0",
   "metadata": {},
   "outputs": [
    {
     "data": {
      "text/plain": [
       "array(['Hydro', 'Solar', 'Geothermal', 'Total combustible fuels', 'Coal',\n",
       "       'Oil', 'Natural gas', 'Electricity trade', 'Fossil fuels',\n",
       "       'Combustible renewables', 'Net electricity production',\n",
       "       'Total imports', 'Total exports', 'Electricity supplied',\n",
       "       'Used for pumped storage', 'Distribution losses',\n",
       "       'Other combustible non-renewables', 'Not specified',\n",
       "       'Final consumption', 'Other renewables aggregated', 'Low carbon',\n",
       "       'Wind', 'Non-renewables', 'Renewables', 'Nuclear', 'Others',\n",
       "       'Other renewables'], dtype=object)"
      ]
     },
     "execution_count": 18,
     "metadata": {},
     "output_type": "execute_result"
    }
   ],
   "source": [
    "# Check unique values in the 'product' column\n",
    "df_europe['product'].unique()"
   ]
  },
  {
   "cell_type": "markdown",
   "id": "1de99eca",
   "metadata": {},
   "source": [
    "---\n",
    "### **Section 8 : Statistical Summary**\n",
    "* Provides summary statistics (mean, std, min, max, etc.) for numeric columns to understand data distribution."
   ]
  },
  {
   "cell_type": "code",
   "execution_count": 19,
   "id": "5618b6c8",
   "metadata": {},
   "outputs": [
    {
     "data": {
      "text/html": [
       "<div>\n",
       "<style scoped>\n",
       "    .dataframe tbody tr th:only-of-type {\n",
       "        vertical-align: middle;\n",
       "    }\n",
       "\n",
       "    .dataframe tbody tr th {\n",
       "        vertical-align: top;\n",
       "    }\n",
       "\n",
       "    .dataframe thead th {\n",
       "        text-align: right;\n",
       "    }\n",
       "</style>\n",
       "<table border=\"1\" class=\"dataframe\">\n",
       "  <thead>\n",
       "    <tr style=\"text-align: right;\">\n",
       "      <th></th>\n",
       "      <th>year</th>\n",
       "      <th>month</th>\n",
       "      <th>value</th>\n",
       "      <th>yeartodate</th>\n",
       "      <th>previousyeartodate</th>\n",
       "      <th>share</th>\n",
       "      <th>date</th>\n",
       "    </tr>\n",
       "  </thead>\n",
       "  <tbody>\n",
       "    <tr>\n",
       "      <th>count</th>\n",
       "      <td>120353.000000</td>\n",
       "      <td>120353.000000</td>\n",
       "      <td>120353.000000</td>\n",
       "      <td>120353.000000</td>\n",
       "      <td>120353.000000</td>\n",
       "      <td>120353.000000</td>\n",
       "      <td>120353</td>\n",
       "    </tr>\n",
       "    <tr>\n",
       "      <th>mean</th>\n",
       "      <td>2016.440413</td>\n",
       "      <td>6.498641</td>\n",
       "      <td>2609.487572</td>\n",
       "      <td>31313.512400</td>\n",
       "      <td>15746.183613</td>\n",
       "      <td>0.301300</td>\n",
       "      <td>2016-11-23 21:33:00.743313408</td>\n",
       "    </tr>\n",
       "    <tr>\n",
       "      <th>min</th>\n",
       "      <td>2010.000000</td>\n",
       "      <td>1.000000</td>\n",
       "      <td>-4837.906000</td>\n",
       "      <td>-46377.998000</td>\n",
       "      <td>-46377.998000</td>\n",
       "      <td>-4.649269</td>\n",
       "      <td>2010-01-01 00:00:00</td>\n",
       "    </tr>\n",
       "    <tr>\n",
       "      <th>25%</th>\n",
       "      <td>2013.000000</td>\n",
       "      <td>3.000000</td>\n",
       "      <td>36.815000</td>\n",
       "      <td>464.999000</td>\n",
       "      <td>58.396000</td>\n",
       "      <td>0.010779</td>\n",
       "      <td>2013-11-01 00:00:00</td>\n",
       "    </tr>\n",
       "    <tr>\n",
       "      <th>50%</th>\n",
       "      <td>2017.000000</td>\n",
       "      <td>6.000000</td>\n",
       "      <td>385.315000</td>\n",
       "      <td>4758.000000</td>\n",
       "      <td>1531.034517</td>\n",
       "      <td>0.091781</td>\n",
       "      <td>2017-04-01 00:00:00</td>\n",
       "    </tr>\n",
       "    <tr>\n",
       "      <th>75%</th>\n",
       "      <td>2020.000000</td>\n",
       "      <td>9.000000</td>\n",
       "      <td>1990.309330</td>\n",
       "      <td>24295.414000</td>\n",
       "      <td>9808.683000</td>\n",
       "      <td>0.524859</td>\n",
       "      <td>2020-02-01 00:00:00</td>\n",
       "    </tr>\n",
       "    <tr>\n",
       "      <th>max</th>\n",
       "      <td>2022.000000</td>\n",
       "      <td>12.000000</td>\n",
       "      <td>61855.823000</td>\n",
       "      <td>619053.007000</td>\n",
       "      <td>619053.007000</td>\n",
       "      <td>5.649269</td>\n",
       "      <td>2022-12-01 00:00:00</td>\n",
       "    </tr>\n",
       "    <tr>\n",
       "      <th>std</th>\n",
       "      <td>3.662333</td>\n",
       "      <td>3.452622</td>\n",
       "      <td>6289.073402</td>\n",
       "      <td>74771.205992</td>\n",
       "      <td>45264.801362</td>\n",
       "      <td>0.461476</td>\n",
       "      <td>NaN</td>\n",
       "    </tr>\n",
       "  </tbody>\n",
       "</table>\n",
       "</div>"
      ],
      "text/plain": [
       "                year          month          value     yeartodate  \\\n",
       "count  120353.000000  120353.000000  120353.000000  120353.000000   \n",
       "mean     2016.440413       6.498641    2609.487572   31313.512400   \n",
       "min      2010.000000       1.000000   -4837.906000  -46377.998000   \n",
       "25%      2013.000000       3.000000      36.815000     464.999000   \n",
       "50%      2017.000000       6.000000     385.315000    4758.000000   \n",
       "75%      2020.000000       9.000000    1990.309330   24295.414000   \n",
       "max      2022.000000      12.000000   61855.823000  619053.007000   \n",
       "std         3.662333       3.452622    6289.073402   74771.205992   \n",
       "\n",
       "       previousyeartodate          share                           date  \n",
       "count       120353.000000  120353.000000                         120353  \n",
       "mean         15746.183613       0.301300  2016-11-23 21:33:00.743313408  \n",
       "min         -46377.998000      -4.649269            2010-01-01 00:00:00  \n",
       "25%             58.396000       0.010779            2013-11-01 00:00:00  \n",
       "50%           1531.034517       0.091781            2017-04-01 00:00:00  \n",
       "75%           9808.683000       0.524859            2020-02-01 00:00:00  \n",
       "max         619053.007000       5.649269            2022-12-01 00:00:00  \n",
       "std          45264.801362       0.461476                            NaN  "
      ]
     },
     "execution_count": 19,
     "metadata": {},
     "output_type": "execute_result"
    }
   ],
   "source": [
    "df_europe.describe()"
   ]
  },
  {
   "cell_type": "markdown",
   "id": "841a5b6f",
   "metadata": {},
   "source": [
    "----\n",
    "### **Section 9 : Negative Value Check**\n",
    "* Identifies the count of negative values in numeric columns, which may indicate special cases (e.g., net exports).\n",
    "* Lists products associated with negative values in key columns, highlighting areas for domain-specific interpretation."
   ]
  },
  {
   "cell_type": "code",
   "execution_count": null,
   "id": "f01ce1fc",
   "metadata": {},
   "outputs": [
    {
     "data": {
      "text/plain": [
       "year                     0\n",
       "month                    0\n",
       "value                 2761\n",
       "yeartodate            2868\n",
       "previousyeartodate    2591\n",
       "share                 2761\n",
       "dtype: int64"
      ]
     },
     "execution_count": 24,
     "metadata": {},
     "output_type": "execute_result"
    }
   ],
   "source": [
    "# Check for negative values in numeric columns\n",
    "(df_europe.select_dtypes(include=[np.number]) < 0).sum()"
   ]
  },
  {
   "cell_type": "code",
   "execution_count": 25,
   "id": "fe994a4b",
   "metadata": {},
   "outputs": [
    {
     "data": {
      "text/plain": [
       "{'value': ['Electricity trade', 'Oil'],\n",
       " 'yeartodate': ['Electricity trade'],\n",
       " 'previousyeartodate': ['Electricity trade'],\n",
       " 'share': ['Electricity trade', 'Oil']}"
      ]
     },
     "execution_count": 25,
     "metadata": {},
     "output_type": "execute_result"
    }
   ],
   "source": [
    "# Define the columns to check for negative values\n",
    "columns_to_check = ['value', 'yeartodate', 'previousyeartodate', 'share']\n",
    "\n",
    "# Dictionary to hold products with negative values\n",
    "negative_values = {}\n",
    "\n",
    "# Loop through the columns and find products with negative values\n",
    "for col in columns_to_check:\n",
    "    if col in df_europe.columns:\n",
    "        negative_products = df_europe[df_europe[col] < 0]['product'].unique()\n",
    "        negative_values[col] = list(negative_products)\n",
    "\n",
    "# Display the result\n",
    "negative_values"
   ]
  },
  {
   "cell_type": "markdown",
   "id": "c7516891",
   "metadata": {},
   "source": [
    "Insights: \n",
    "* ‘Electricity trade’ and ‘Oil’ are the only two products showing negative values.\n",
    "* Negative values in 'Electricity trade' represent net electricity exports, which is a normal phenomenon in energy datasets. These values are retained and interpreted accordingly.\n",
    "* Negative values in 'Oil' are likely due to data reporting errors or inconsistencies, as negative electricity generation is not logically valid in this context.\n",
    "----"
   ]
  },
  {
   "cell_type": "markdown",
   "id": "f5b935d8",
   "metadata": {},
   "source": [
    "### **Section 10 : Outlier Detection**\n",
    "* Calculates the number of outliers in key columns using the IQR method, helping to identify extreme values for further investigation.\n",
    "* Visualizes the distribution and outliers for each numeric column using boxplots, aiding in the assessment of data quality."
   ]
  },
  {
   "cell_type": "code",
   "execution_count": 43,
   "id": "19dea77d",
   "metadata": {},
   "outputs": [
    {
     "name": "stdout",
     "output_type": "stream",
     "text": [
      "Outlier count per column:\n",
      "value: 16316 outliers\n",
      "yeartodate: 16020 outliers\n",
      "previousyeartodate: 17336 outliers\n",
      "share: 2307 outliers\n"
     ]
    }
   ],
   "source": [
    "# Columns you want to check for outliers\n",
    "columns_to_check = ['value', 'yeartodate', 'previousyeartodate', 'share']\n",
    "\n",
    "# Dictionary to store outlier counts\n",
    "outliers = {}\n",
    "\n",
    "# Loop through each column and calculate IQR outliers\n",
    "for col in columns_to_check:\n",
    "    Q1 = df_europe[col].quantile(0.25)\n",
    "    Q3 = df_europe[col].quantile(0.75)\n",
    "    IQR = Q3 - Q1\n",
    "\n",
    "    # Define outliers as values outside of 1.5 * IQR\n",
    "    lower_bound = Q1 - 1.5 * IQR\n",
    "    upper_bound = Q3 + 1.5 * IQR\n",
    "\n",
    "    # Count how many outliers\n",
    "    outliers[col] = df_europe[(df_europe[col] < lower_bound) | (df_europe[col] > upper_bound)].shape[0]\n",
    "\n",
    "# Display outlier count per column\n",
    "print(\"Outlier count per column:\")\n",
    "for col, count in outliers.items():\n",
    "    print(f\"{col}: {count} outliers\")"
   ]
  },
  {
   "cell_type": "code",
   "execution_count": null,
   "id": "11bb7d3d",
   "metadata": {},
   "outputs": [
    {
     "data": {
      "image/png": "[encoded data removed]",
      "text/plain": [
       "<Figure size 1000x400 with 1 Axes>"
      ]
     },
     "metadata": {},
     "output_type": "display_data"
    },
    {
     "data": {
      "image/png": "[encoded data removed]",
      "text/plain": [
       "<Figure size 1000x400 with 1 Axes>"
      ]
     },
     "metadata": {},
     "output_type": "display_data"
    },
    {
     "data": {
      "image/png": "[encoded data removed]",
      "text/plain": [
       "<Figure size 1000x400 with 1 Axes>"
      ]
     },
     "metadata": {},
     "output_type": "display_data"
    },
    {
     "data": {
      "image/png": "[encoded data removed]",
      "text/plain": [
       "<Figure size 1000x400 with 1 Axes>"
      ]
     },
     "metadata": {},
     "output_type": "display_data"
    }
   ],
   "source": [
    "# Visualize the distribution and outliers for each numeric column using boxplots\n",
    "# import necessary libraries\n",
    "import matplotlib.pyplot as plt\n",
    "import seaborn as sns\n",
    "# Set the style for seaborn\n",
    "for col in columns_to_check:\n",
    "    plt.figure(figsize=(10, 4))\n",
    "    sns.boxplot(x=df_europe[col])\n",
    "    plt.title(f'Boxplot of {col}')\n",
    "    plt.show()"
   ]
  },
  {
   "cell_type": "markdown",
   "id": "4a30caff",
   "metadata": {},
   "source": [
    "Insights: \n",
    "* Outliers were detected in value, yeartodate, previousyeartodate, share columns. After careful consideration, outliers were retained in the dataset.\n",
    "The dataset represents real-world electricity generation data across European countries.\n",
    "* Outliers in this context are often a result of:\n",
    "    - Seasonal peaks in production or demand\n",
    "    - Sudden policy changes\n",
    "    - Cross-border electricity trade or import/export anomalies\n",
    "* These data points are not errors, but rather valuable indicators of unique events and trends.\n",
    "* Removing them would risk hiding meaningful insights that could improve the quality of the analysis.\n",
    "---"
   ]
  },
  {
   "cell_type": "markdown",
   "id": "713e106c",
   "metadata": {},
   "source": [
    "### **Section 11 :Final Data Preview and Saving Cleaned Dataset**"
   ]
  },
  {
   "cell_type": "code",
   "execution_count": 47,
   "id": "2d5f4c7a",
   "metadata": {},
   "outputs": [
    {
     "data": {
      "text/html": [
       "<div>\n",
       "<style scoped>\n",
       "    .dataframe tbody tr th:only-of-type {\n",
       "        vertical-align: middle;\n",
       "    }\n",
       "\n",
       "    .dataframe tbody tr th {\n",
       "        vertical-align: top;\n",
       "    }\n",
       "\n",
       "    .dataframe thead th {\n",
       "        text-align: right;\n",
       "    }\n",
       "</style>\n",
       "<table border=\"1\" class=\"dataframe\">\n",
       "  <thead>\n",
       "    <tr style=\"text-align: right;\">\n",
       "      <th></th>\n",
       "      <th>country_name</th>\n",
       "      <th>year</th>\n",
       "      <th>month</th>\n",
       "      <th>product</th>\n",
       "      <th>value</th>\n",
       "      <th>yeartodate</th>\n",
       "      <th>previousyeartodate</th>\n",
       "      <th>share</th>\n",
       "      <th>date</th>\n",
       "    </tr>\n",
       "  </thead>\n",
       "  <tbody>\n",
       "    <tr>\n",
       "      <th>20</th>\n",
       "      <td>Austria</td>\n",
       "      <td>2010</td>\n",
       "      <td>1</td>\n",
       "      <td>Hydro</td>\n",
       "      <td>2579.264</td>\n",
       "      <td>39502.566</td>\n",
       "      <td>0.0</td>\n",
       "      <td>0.437055</td>\n",
       "      <td>2010-01-01</td>\n",
       "    </tr>\n",
       "    <tr>\n",
       "      <th>22</th>\n",
       "      <td>Austria</td>\n",
       "      <td>2010</td>\n",
       "      <td>1</td>\n",
       "      <td>Solar</td>\n",
       "      <td>2.864</td>\n",
       "      <td>84.421</td>\n",
       "      <td>0.0</td>\n",
       "      <td>0.000485</td>\n",
       "      <td>2010-01-01</td>\n",
       "    </tr>\n",
       "    <tr>\n",
       "      <th>23</th>\n",
       "      <td>Austria</td>\n",
       "      <td>2010</td>\n",
       "      <td>1</td>\n",
       "      <td>Geothermal</td>\n",
       "      <td>0.111</td>\n",
       "      <td>1.332</td>\n",
       "      <td>0.0</td>\n",
       "      <td>0.000019</td>\n",
       "      <td>2010-01-01</td>\n",
       "    </tr>\n",
       "    <tr>\n",
       "      <th>24</th>\n",
       "      <td>Austria</td>\n",
       "      <td>2010</td>\n",
       "      <td>1</td>\n",
       "      <td>Total combustible fuels</td>\n",
       "      <td>3117.160</td>\n",
       "      <td>26042.221</td>\n",
       "      <td>0.0</td>\n",
       "      <td>0.528201</td>\n",
       "      <td>2010-01-01</td>\n",
       "    </tr>\n",
       "    <tr>\n",
       "      <th>25</th>\n",
       "      <td>Austria</td>\n",
       "      <td>2010</td>\n",
       "      <td>1</td>\n",
       "      <td>Coal</td>\n",
       "      <td>693.730</td>\n",
       "      <td>6371.891</td>\n",
       "      <td>0.0</td>\n",
       "      <td>0.117552</td>\n",
       "      <td>2010-01-01</td>\n",
       "    </tr>\n",
       "  </tbody>\n",
       "</table>\n",
       "</div>"
      ],
      "text/plain": [
       "   country_name  year  month                  product     value  yeartodate  \\\n",
       "20      Austria  2010      1                    Hydro  2579.264   39502.566   \n",
       "22      Austria  2010      1                    Solar     2.864      84.421   \n",
       "23      Austria  2010      1               Geothermal     0.111       1.332   \n",
       "24      Austria  2010      1  Total combustible fuels  3117.160   26042.221   \n",
       "25      Austria  2010      1                     Coal   693.730    6371.891   \n",
       "\n",
       "    previousyeartodate     share       date  \n",
       "20                 0.0  0.437055 2010-01-01  \n",
       "22                 0.0  0.000485 2010-01-01  \n",
       "23                 0.0  0.000019 2010-01-01  \n",
       "24                 0.0  0.528201 2010-01-01  \n",
       "25                 0.0  0.117552 2010-01-01  "
      ]
     },
     "execution_count": 47,
     "metadata": {},
     "output_type": "execute_result"
    }
   ],
   "source": [
    "df_europe.head()"
   ]
  },
  {
   "cell_type": "code",
   "execution_count": 48,
   "id": "db58cbaa",
   "metadata": {},
   "outputs": [],
   "source": [
    "# save the cleaned DataFrame to a new CSV file\n",
    "df_europe.to_csv(\"../data/cleaned_european_countries_dataset.csv\", index=False)"
   ]
  },
  {
   "cell_type": "markdown",
   "id": "87a000b1",
   "metadata": {},
   "source": [
    "### **Summary of Data Cleaning**: \n",
    "\n",
    "This notebook documents the complete data cleaning process for monthly electricity generation data across European countries. The workflow includes:\n",
    "\n",
    "- **Loading and inspecting raw data:** The original dataset is loaded and its structure, columns, and sample entries are reviewed.\n",
    "- **Filtering for European countries:** Only rows corresponding to a predefined list of European countries are retained for analysis.\n",
    "- **Column normalization and reduction:** Column names are standardized to lowercase, and unnecessary columns are dropped to streamline the dataset.\n",
    "- **Date column creation:** Year and month columns are combined into a unified datetime column to facilitate time-based analysis.\n",
    "- **Missing value handling:** NaN values, especially in the 'previousyeartodate' column, are replaced with 0 to ensure consistency.\n",
    "- **Negative value inspection:** Negative values are identified and retained for 'Electricity trade' (representing net exports) and 'Oil'.\n",
    "- **Outlier detection:** Outliers are detected using the IQR method and visualized with boxplots. Outliers are retained, as they often represent real-world events or trends in energy data.\n",
    "- **Final dataset preparation:** The cleaned dataset is saved for downstream analysis, with all transformations and corrections logged for transparency.\n",
    "\n",
    "This process ensures the dataset is accurate, consistent, and ready for exploratory analysis and modeling, while preserving meaningful variations and domain-specific phenomena."
   ]
  },
  {
   "cell_type": "markdown",
   "id": "35e3f444",
   "metadata": {},
   "source": [
    "---"
   ]
  }
 ],
 "metadata": {
  "kernelspec": {
   "display_name": ".venv",
   "language": "python",
   "name": "python3"
  },
  "language_info": {
   "codemirror_mode": {
    "name": "ipython",
    "version": 3
   },
   "file_extension": ".py",
   "mimetype": "text/x-python",
   "name": "python",
   "nbconvert_exporter": "python",
   "pygments_lexer": "ipython3",
   "version": "3.12.8"
  }
 },
 "nbformat": 4,
 "nbformat_minor": 5
}
